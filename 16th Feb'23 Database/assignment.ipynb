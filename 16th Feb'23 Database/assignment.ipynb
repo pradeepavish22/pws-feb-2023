{
 "cells": [
  {
   "attachments": {},
   "cell_type": "markdown",
   "metadata": {},
   "source": [
    "Q1. What is a database? Differentiate between SQL and NoSQL databases"
   ]
  },
  {
   "attachments": {},
   "cell_type": "markdown",
   "metadata": {},
   "source": [
    "A database is a structured collection of data that is organized and stored in a computer system. It is designed to efficiently manage, retrieve, and manipulate large amounts of data. Databases provide a way to store and organize data in a structured format, allowing for easy access, querying, and manipulation.\n",
    "\n",
    "Now, let's differentiate between SQL and NoSQL databases:\n",
    "\n",
    "SQL Databases:\n",
    "- SQL (Structured Query Language) databases are based on the relational data model.\n",
    "- They use structured schemas with predefined tables and columns to store data.\n",
    "- Data in SQL databases is organized into rows and columns, and relationships between tables are established using foreign keys.\n",
    "- SQL databases enforce ACID (Atomicity, Consistency, Isolation, Durability) properties, ensuring data integrity and transactional consistency.\n",
    "- Examples of SQL databases include MySQL, PostgreSQL, Oracle, and SQL Server.\n",
    "- SQL databases are suitable for applications where data relationships and complex transactions are important, such as financial systems or applications with well-defined schemas.\n",
    "\n",
    "NoSQL Databases:\n",
    "- NoSQL (Not Only SQL) databases are designed to handle unstructured and semi-structured data.\n",
    "- They do not rely on a fixed schema, allowing for flexible and dynamic data models.\n",
    "- NoSQL databases can store data in various formats like key-value pairs, documents, columnar, or graph-based structures.\n",
    "- They are horizontally scalable, meaning they can distribute data across multiple servers to handle large amounts of traffic and achieve high availability.\n",
    "- NoSQL databases offer high performance and scalability, but at the expense of sacrificing some traditional ACID properties.\n",
    "- Examples of NoSQL databases include MongoDB, Cassandra, Redis, and Amazon DynamoDB.\n",
    "- NoSQL databases are suitable for applications with rapidly changing data requirements, unstructured or semi-structured data, or a need for high scalability and performance, such as social media platforms, real-time analytics, or content management systems.\n"
   ]
  },
  {
   "attachments": {},
   "cell_type": "markdown",
   "metadata": {},
   "source": [
    "Q2. What is DDL? Explain why CREATE, DROP, ALTER, and TRUNCATE are used with an example."
   ]
  },
  {
   "attachments": {},
   "cell_type": "markdown",
   "metadata": {},
   "source": [
    "DDL stands for Data Definition Language. It is a subset of SQL (Structured Query Language) that is used to define and manage the structure of a database. DDL statements are responsible for creating, altering, and deleting database objects such as tables, indexes, views, and constraints.\n",
    "\n",
    "Here's an explanation of the commonly used DDL statements with examples:\n",
    "\n",
    "1. CREATE:\n",
    "   - The CREATE statement is used to create a new database object, such as a table, index, or view.\n",
    "   - It specifies the name of the object, the columns or fields it contains, and any additional properties or constraints.\n",
    "   - Example: Creating a table named \"employees\" with columns \"id,\" \"name,\" and \"age\":\n",
    "     ```sql\n",
    "     CREATE TABLE employees (\n",
    "         id INT PRIMARY KEY,\n",
    "         name VARCHAR(50),\n",
    "         age INT\n",
    "     );\n",
    "     ```\n",
    "\n",
    "2. DROP:\n",
    "   - The DROP statement is used to remove an existing database object, such as a table, index, or view.\n",
    "   - It permanently deletes the object and its associated data from the database.\n",
    "   - Example: Dropping a table named \"employees\":\n",
    "     ```sql\n",
    "     DROP TABLE employees;\n",
    "     ```\n",
    "\n",
    "3. ALTER:\n",
    "   - The ALTER statement is used to modify the structure of an existing database object, such as a table or column.\n",
    "   - It allows you to add, modify, or drop columns, change data types, add constraints, or rename objects.\n",
    "   - Example: Adding a new column \"salary\" to the \"employees\" table:\n",
    "     ```sql\n",
    "     ALTER TABLE employees\n",
    "     ADD salary DECIMAL(10,2);\n",
    "     ```\n",
    "\n",
    "4. TRUNCATE:\n",
    "   - The TRUNCATE statement is used to remove all data from an existing table.\n",
    "   - It is similar to the DELETE statement but performs a faster operation by deallocating the data pages without logging individual row deletions.\n",
    "   - Unlike the DROP statement, TRUNCATE keeps the table structure intact and only removes the data.\n",
    "   - Example: Truncating the \"employees\" table:\n",
    "     ```sql\n",
    "     TRUNCATE TABLE employees;\n",
    "     ```\n"
   ]
  },
  {
   "attachments": {},
   "cell_type": "markdown",
   "metadata": {},
   "source": [
    "Q3. What is DML? Explain INSERT, UPDATE, and DELETE with an example."
   ]
  },
  {
   "attachments": {},
   "cell_type": "markdown",
   "metadata": {},
   "source": [
    "DML stands for Data Manipulation Language. It is a subset of SQL (Structured Query Language) that is used to manipulate and modify data within a database. DML statements are responsible for inserting, updating, and deleting data in database tables.\n",
    "\n",
    "Here's an explanation of the commonly used DML statements with examples:\n",
    "\n",
    "1. INSERT:\n",
    "   - The INSERT statement is used to add new records or rows into a table.\n",
    "   - It specifies the table name and the values to be inserted into the corresponding columns.\n",
    "   - Example: Inserting a new record into the \"employees\" table:\n",
    "     ```sql\n",
    "     INSERT INTO employees (id, name, age) VALUES (1, 'John Doe', 30);\n",
    "     ```\n",
    "\n",
    "2. UPDATE:\n",
    "   - The UPDATE statement is used to modify existing records in a table.\n",
    "   - It specifies the table name, the column(s) to be updated, and the new values.\n",
    "   - It can also include a WHERE clause to specify the condition for updating specific rows.\n",
    "   - Example: Updating the age of an employee with id=1 in the \"employees\" table:\n",
    "     ```sql\n",
    "     UPDATE employees SET age = 31 WHERE id = 1;\n",
    "     ```\n",
    "\n",
    "3. DELETE:\n",
    "   - The DELETE statement is used to remove existing records from a table.\n",
    "   - It specifies the table name and can include a WHERE clause to specify the condition for deleting specific rows.\n",
    "   - Example: Deleting an employee with id=1 from the \"employees\" table:\n",
    "     ```sql\n",
    "     DELETE FROM employees WHERE id = 1;\n",
    "     ```"
   ]
  },
  {
   "attachments": {},
   "cell_type": "markdown",
   "metadata": {},
   "source": [
    "Q4. What is DQL? Explain SELECT with an example."
   ]
  },
  {
   "attachments": {},
   "cell_type": "markdown",
   "metadata": {},
   "source": [
    "DQL stands for Data Query Language. It is a subset of SQL (Structured Query Language) that is used to retrieve data from a database. DQL statements are primarily focused on querying and fetching data based on specified criteria.\n",
    "\n",
    "The most commonly used DQL statement is SELECT. It allows you to retrieve data from one or more tables in a database.\n",
    "\n",
    "Here's an explanation of the SELECT statement with an example:\n",
    "\n",
    "SELECT:\n",
    "- The SELECT statement is used to retrieve data from a database table or multiple tables.\n",
    "- It specifies the columns to be included in the result set and the table(s) from which to retrieve the data.\n",
    "- It can include various clauses like WHERE, ORDER BY, GROUP BY, JOIN, and more to filter, sort, and aggregate the data.\n",
    "- Example: Retrieving all columns from the \"employees\" table:\n",
    "  ```sql\n",
    "  SELECT * FROM employees;\n",
    "  ```\n",
    "\n",
    "In the example above, the SELECT statement retrieves all columns from the \"employees\" table. The asterisk (*) is a wildcard character used to represent all columns. This query will return all records (rows) and all columns from the specified table.\n",
    "\n",
    "You can also specify specific columns to retrieve by listing them after the SELECT keyword. For example, to retrieve only the \"name\" and \"age\" columns from the \"employees\" table, you can modify the query as follows:\n",
    "\n",
    "```sql\n",
    "SELECT name, age FROM employees;\n",
    "```\n",
    "\n",
    "This query will return only the \"name\" and \"age\" columns for all records in the \"employees\" table.\n",
    "\n",
    "The SELECT statement is highly versatile and allows you to perform more complex queries by incorporating additional clauses such as WHERE to filter based on specific conditions, ORDER BY to sort the result set, GROUP BY to group the data based on certain columns, and JOIN to combine data from multiple tables based on related columns.\n",
    "\n"
   ]
  },
  {
   "attachments": {},
   "cell_type": "markdown",
   "metadata": {},
   "source": []
  },
  {
   "attachments": {},
   "cell_type": "markdown",
   "metadata": {},
   "source": [
    "Q5. Explain Primary Key and Foreign Key"
   ]
  },
  {
   "attachments": {},
   "cell_type": "markdown",
   "metadata": {},
   "source": [
    "Primary Key:\n",
    "A primary key is a column or a set of columns in a database table that uniquely identifies each record or row in that table. It ensures the uniqueness and integrity of the data within the table. Here are some key points about primary keys:\n",
    "\n",
    "1. Uniqueness: Every value in the primary key column(s) must be unique. No two records in the table can have the same primary key value.\n",
    "\n",
    "2. Non-nullability: The primary key column(s) cannot contain NULL values. Each record must have a non-null value in the primary key column(s).\n",
    "\n",
    "3. Indexing: By default, most database systems automatically create an index on the primary key column(s). This improves the performance of search and retrieval operations.\n",
    "\n",
    "4. Referential Integrity: Primary keys are often used as references by other tables through foreign keys to establish relationships between tables.\n",
    "\n",
    "Foreign Key:\n",
    "A foreign key is a column or a set of columns in a database table that refers to the primary key of another table. It establishes a relationship between two tables, enforcing referential integrity and maintaining consistency between related data. Here are some key points about foreign keys:\n",
    "\n",
    "1. Relationship: A foreign key establishes a relationship between two tables, typically representing a parent-child relationship or a relationship between related entities.\n",
    "\n",
    "2. Referential Integrity: The foreign key ensures referential integrity by enforcing that the values in the foreign key column(s) correspond to existing values in the primary key column(s) of the referenced table.\n",
    "\n",
    "3. Constraint: The foreign key relationship is usually defined as a constraint, which specifies the rules for maintaining the relationship between the tables. This constraint can be used to control actions like cascading updates or deletes.\n",
    "\n",
    "4. Multiple Foreign Keys: A table can have multiple foreign keys, allowing it to reference multiple tables and establish relationships with different entities.\n"
   ]
  },
  {
   "attachments": {},
   "cell_type": "markdown",
   "metadata": {},
   "source": [
    "Q6. Write a python code to connect MySQL to python. Explain the cursor() and execute() method"
   ]
  },
  {
   "cell_type": "code",
   "execution_count": null,
   "metadata": {},
   "outputs": [],
   "source": [
    "import mysql.connector\n",
    "\n",
    "# Connect to MySQL\n",
    "mydb = mysql.connector.connect(\n",
    "  host=\"localhost\",\n",
    "  user=\"root\",\n",
    "  password=\"AlexNetDataScience\",\n",
    "  database=\"AlexNet\"\n",
    ")\n",
    "\n",
    "# Create a cursor object\n",
    "cursor = mydb.cursor()\n",
    "\n",
    "# Execute SQL queries\n",
    "sql_query = \"SELECT * FROM employees\"\n",
    "cursor.execute(sql_query)\n",
    "\n",
    "# Fetch the results\n",
    "results = cursor.fetchall()\n",
    "\n",
    "# Print the results\n",
    "for row in results:\n",
    "  print(row)\n",
    "\n",
    "# Close the cursor and the connection\n",
    "cursor.close()\n",
    "mydb.close()\n"
   ]
  },
  {
   "attachments": {},
   "cell_type": "markdown",
   "metadata": {},
   "source": [
    "Q7. Give the order of execution of SQL clauses in an SQL query."
   ]
  },
  {
   "attachments": {},
   "cell_type": "markdown",
   "metadata": {},
   "source": [
    "In an SQL query, the clauses are typically executed in the following order:\n",
    "\n",
    "1. SELECT: This clause specifies the columns to be retrieved from the table(s) and any transformations or calculations to be applied to the data.\n",
    "\n",
    "2. FROM: This clause specifies the table(s) from which to retrieve the data.\n",
    "\n",
    "3. JOIN: If there are multiple tables involved in the query and a join operation is required, the JOIN clause is used to combine the data from different tables based on specified join conditions.\n",
    "\n",
    "4. WHERE: This clause is used to filter the rows based on specified conditions. It allows you to specify criteria that the rows must meet to be included in the result set.\n",
    "\n",
    "5. GROUP BY: If you want to group the data based on certain columns and perform aggregate functions like SUM, COUNT, AVG, etc., the GROUP BY clause is used. It groups the rows based on the specified columns.\n",
    "\n",
    "6. HAVING: If you need to filter the grouped rows based on conditions, the HAVING clause is used. It works similar to the WHERE clause but is applied after the GROUP BY clause.\n",
    "\n",
    "7. ORDER BY: This clause is used to sort the result set based on specified columns, either in ascending (ASC) or descending (DESC) order.\n",
    "\n",
    "8. LIMIT/OFFSET: The LIMIT and OFFSET clauses are used to restrict the number of rows returned in the result set. The LIMIT clause specifies the maximum number of rows to return, while the OFFSET clause skips a certain number of rows from the beginning of the result set.\n",
    "\n",
    "\n"
   ]
  },
  {
   "attachments": {},
   "cell_type": "markdown",
   "metadata": {},
   "source": []
  }
 ],
 "metadata": {
  "kernelspec": {
   "display_name": "Python 3",
   "language": "python",
   "name": "python3"
  },
  "language_info": {
   "codemirror_mode": {
    "name": "ipython",
    "version": 3
   },
   "file_extension": ".py",
   "mimetype": "text/x-python",
   "name": "python",
   "nbconvert_exporter": "python",
   "pygments_lexer": "ipython3",
   "version": "3.10.7"
  },
  "orig_nbformat": 4
 },
 "nbformat": 4,
 "nbformat_minor": 2
}
