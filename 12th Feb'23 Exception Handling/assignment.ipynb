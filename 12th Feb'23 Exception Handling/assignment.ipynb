{
 "cells": [
  {
   "attachments": {},
   "cell_type": "markdown",
   "metadata": {},
   "source": [
    "Q1. What is an Exception in python? Write the difference between Exceptions and Syntax errors."
   ]
  },
  {
   "attachments": {},
   "cell_type": "markdown",
   "metadata": {},
   "source": [
    "In Python, an exception is an event that occurs during the execution of a program that disrupts the normal flow of code. It is a mechanism provided by the language to handle and respond to various types of errors or exceptional situations that may arise during program execution.\n",
    "\n",
    "Exceptions can be raised explicitly using the `raise` statement or can be raised implicitly by the Python interpreter when it encounters an error condition. When an exception is raised, it interrupts the normal execution of the program and searches for an appropriate exception handler to handle the exception. If no suitable handler is found, the program terminates and displays an error message along with a traceback.\n",
    "\n",
    "On the other hand, syntax errors are different from exceptions. Syntax errors occur when the syntax of a Python program is incorrect, violating the rules and grammar of the language. These errors are usually detected by the Python interpreter during the parsing stage, before the program is executed. Syntax errors prevent the program from running at all, as they indicate a problem in the structure or format of the code.\n",
    "\n",
    "Here are the key differences between exceptions and syntax errors:\n",
    "\n",
    "1. Occurrence: Exceptions occur during the execution of a program, while syntax errors are detected during the parsing stage before the program runs.\n",
    "\n",
    "2. Handling: Exceptions can be handled using try-except blocks, allowing the program to recover from error conditions and continue executing. Syntax errors cannot be handled since they prevent the program from running in the first place. Syntax errors must be fixed by correcting the code's syntax.\n",
    "\n",
    "3. Source: Exceptions can arise from various sources, including runtime errors, I/O operations, arithmetic errors, or explicit raising of exceptions. Syntax errors, on the other hand, stem from mistakes in the code's structure or syntax, such as missing parentheses, incorrect indentation, or misspelled keywords.\n",
    "\n",
    "4. Error Messages: Exceptions provide detailed error messages and traceback information that help in identifying and debugging the cause of the error. Syntax errors, when encountered, display a specific error message pointing to the line and location where the syntax error occurred.\n",
    "\n"
   ]
  },
  {
   "attachments": {},
   "cell_type": "markdown",
   "metadata": {},
   "source": [
    "Q2. What happens when an exception is not handled? Explain with an example."
   ]
  },
  {
   "attachments": {},
   "cell_type": "markdown",
   "metadata": {},
   "source": [
    "When an exception is not handled in Python, it propagates up the call stack until it reaches the highest level of the program, and if no exception handler is found, it results in the program termination. This termination is accompanied by an error message and a traceback that provides information about the exception and the sequence of function calls that led to it.\n",
    "\n",
    "Here's an example to illustrate what happens when an exception is not handled:\n",
    "\n",
    "```python\n",
    "def divide_numbers(a, b):\n",
    "    return a / b\n",
    "\n",
    "def perform_calculation():\n",
    "    result = divide_numbers(10, 0)  # Division by zero\n",
    "    print(\"Result:\", result)\n",
    "\n",
    "def main():\n",
    "    perform_calculation()\n",
    "\n",
    "main()\n",
    "```\n",
    "\n",
    "In this example, the `divide_numbers()` function attempts to divide two numbers but encounters a division by zero error. When `perform_calculation()` is called, it invokes `divide_numbers(10, 0)`, which results in a `ZeroDivisionError` being raised.\n",
    "\n",
    "Since there is no exception handler specifically designed to handle `ZeroDivisionError`, the exception propagates up the call stack to the `perform_calculation()` function. Since there is no exception handler there either, the exception continues to propagate to the `main()` function.\n",
    "\n",
    "In the `main()` function, no exception handler is present either, so the exception continues to propagate. At this point, the default exception handler provided by the Python interpreter takes over, resulting in the program termination.\n",
    "\n",
    "The termination of the program is accompanied by an error message that indicates the type of exception (`ZeroDivisionError`) and a traceback that shows the sequence of function calls leading up to the unhandled exception. The traceback provides valuable information for debugging and identifying the cause of the exception.\n",
    "\n",
    "Handling exceptions is essential to gracefully handle errors and prevent the program from terminating abruptly. By providing appropriate exception handlers, you can control how the program responds to exceptions, whether it's by displaying an error message, logging the exception, or implementing specific error recovery mechanisms."
   ]
  },
  {
   "attachments": {},
   "cell_type": "markdown",
   "metadata": {},
   "source": [
    "Q3. Which Python statements are used to catch and handle exceptions? Explain with an example"
   ]
  },
  {
   "attachments": {},
   "cell_type": "markdown",
   "metadata": {},
   "source": [
    "In Python, the `try-except` statements are used to catch and handle exceptions. The `try` block encloses the code that may raise an exception, and the `except` block specifies how to handle the exception if it occurs.\n",
    "\n",
    "Here's the syntax of the `try-except` statements:\n",
    "\n",
    "```python\n",
    "try:\n",
    "    # Code that may raise an exception\n",
    "except ExceptionType:\n",
    "    # Exception handling code\n",
    "```\n",
    "\n",
    "The `try` block contains the code that is expected to raise an exception. If an exception occurs within the `try` block, the execution of the `try` block is immediately stopped, and the program jumps to the corresponding `except` block.\n",
    "\n",
    "The `except` block specifies the type of exception to catch and provides the code to handle that specific exception. The `ExceptionType` can be a built-in exception class or a custom exception class that inherits from the `Exception` base class.\n",
    "\n",
    "Here's an example to illustrate the use of `try-except` statements:\n",
    "\n",
    "```python\n",
    "def divide_numbers(a, b):\n",
    "    try:\n",
    "        result = a / b\n",
    "        print(\"Result:\", result)\n",
    "    except ZeroDivisionError:\n",
    "        print(\"Error: Division by zero is not allowed.\")\n",
    "\n",
    "divide_numbers(10, 0)  # Division by zero\n",
    "```\n",
    "\n",
    "In this example, the `divide_numbers()` function attempts to divide two numbers `a` and `b`. The division operation is enclosed in a `try` block, as it may raise a `ZeroDivisionError` if the denominator (`b`) is zero.\n",
    "\n",
    "Inside the `except` block, a `ZeroDivisionError` is specified, indicating that this block should handle the `ZeroDivisionError` exception. If a `ZeroDivisionError` occurs within the `try` block, the program jumps to the `except` block, and the code inside the `except` block is executed.\n",
    "\n",
    "In this case, when `divide_numbers(10, 0)` is called, a division by zero error occurs. As a result, the program jumps to the `except` block and executes the code inside it, which prints the error message \"Error: Division by zero is not allowed.\"\n",
    "\n",
    "By using `try-except` statements, you can catch and handle specific exceptions, providing appropriate error handling and allowing the program to continue its execution gracefully. You can have multiple `except` blocks to handle different types of exceptions or use a generic `except` block to catch any exception that may occur."
   ]
  },
  {
   "attachments": {},
   "cell_type": "markdown",
   "metadata": {},
   "source": [
    "Q4. Explain with an example:\n",
    "\n",
    "a.try and else\n",
    "\n",
    "b.finall\n",
    "\n",
    "c.raise"
   ]
  },
  {
   "attachments": {},
   "cell_type": "markdown",
   "metadata": {},
   "source": []
  },
  {
   "attachments": {},
   "cell_type": "markdown",
   "metadata": {},
   "source": [
    "a. `try`, `except`, and `else`:\n",
    "\n",
    "The `try` statement in Python is used to handle potential exceptions that may occur during the execution of a block of code. It allows you to test a block of code for errors and handle them appropriately. The general syntax for a `try` statement is as follows:\n",
    "\n",
    "```python\n",
    "try:\n",
    "    # Block of code to be attempted\n",
    "except ExceptionType:\n",
    "    # Block of code to be executed if an exception of type ExceptionType occurs\n",
    "else:\n",
    "    # Block of code to be executed if no exception occurs\n",
    "```\n",
    "\n",
    "Here's an example to illustrate how `try`, `except`, and `else` work together:\n",
    "\n",
    "```python\n",
    "try:\n",
    "    dividend = int(input(\"Enter the dividend: \"))\n",
    "    divisor = int(input(\"Enter the divisor: \"))\n",
    "    result = dividend / divisor\n",
    "except ValueError:\n",
    "    print(\"Invalid input. Please enter integer values.\")\n",
    "except ZeroDivisionError:\n",
    "    print(\"Error: Division by zero is not allowed.\")\n",
    "else:\n",
    "    print(\"The result of the division is:\", result)\n",
    "```\n",
    "\n",
    "In this example, the `try` block attempts to perform a division operation by taking input for the dividend and divisor. If the user enters non-integer values, a `ValueError` exception will be raised and caught by the corresponding `except` block. If the user enters zero as the divisor, a `ZeroDivisionError` exception will be raised and caught by its respective `except` block. If no exceptions occur, the `else` block will be executed and display the result of the division.\n",
    "\n",
    "b. `finally`:\n",
    "\n",
    "The `finally` block in Python is used to define a piece of code that will be executed regardless of whether an exception was raised or not. It is typically used for cleanup actions that must occur under all circumstances. The `finally` block is placed after all the `except` blocks (if any) and is optional.\n",
    "\n",
    "Here's an example to demonstrate the usage of `finally`:\n",
    "\n",
    "```python\n",
    "try:\n",
    "    file = open(\"example.txt\", \"r\")\n",
    "    # Perform some operations with the file\n",
    "except FileNotFoundError:\n",
    "    print(\"File not found.\")\n",
    "finally:\n",
    "    file.close()  # Ensure the file is always closed, even if an exception occurs\n",
    "```\n",
    "\n",
    "In this example, the `try` block attempts to open a file named \"example.txt\" for reading. If the file is not found, a `FileNotFoundError` exception is raised and caught by the corresponding `except` block. Regardless of whether an exception occurred or not, the `finally` block ensures that the file is closed properly.\n",
    "\n",
    "c. `raise`:\n",
    "\n",
    "The `raise` statement in Python is used to manually raise an exception. It allows you to create custom exceptions or re-raise existing ones. You can raise exceptions based on certain conditions or requirements within your code.\n",
    "\n",
    "Here's an example that demonstrates how to raise a custom exception:\n",
    "\n",
    "```python\n",
    "def divide(dividend, divisor):\n",
    "    if divisor == 0:\n",
    "        raise ValueError(\"Cannot divide by zero.\")\n",
    "    return dividend / divisor\n",
    "\n",
    "try:\n",
    "    result = divide(10, 0)\n",
    "except ValueError as e:\n",
    "    print(e)  # Output: Cannot divide by zero.\n",
    "```\n"
   ]
  },
  {
   "attachments": {},
   "cell_type": "markdown",
   "metadata": {},
   "source": []
  },
  {
   "attachments": {},
   "cell_type": "markdown",
   "metadata": {},
   "source": [
    "Q5. What are Custom Exceptions in python? Why do we need Custom Exceptions? Explain with an example."
   ]
  },
  {
   "attachments": {},
   "cell_type": "markdown",
   "metadata": {},
   "source": [
    "Custom exceptions in Python are user-defined exception classes that allow you to create specific types of exceptions tailored to your application's needs. They are derived from the base `Exception` class or any of its subclasses. By creating custom exceptions, you can handle exceptional situations in a more specific and meaningful way.\n",
    "\n",
    "Here are a few reasons why custom exceptions are useful:\n",
    "\n",
    "1. **Improved code readability:** Custom exceptions provide clear and descriptive error messages that help developers understand the cause of the exception quickly. This improves code readability and makes it easier to debug and maintain the codebase.\n",
    "\n",
    "2. **Focused exception handling:** With custom exceptions, you can handle different exceptional situations separately. This allows you to write specific exception handlers for each type of exception, providing more precise error handling and appropriate actions based on the exceptional condition.\n",
    "\n",
    "3. **Hierarchical exception handling:** Custom exceptions can be organized in a hierarchical manner, with parent and child exception classes. This allows you to catch exceptions at different levels, handling them at different stages of your code. It provides a more structured approach to exception handling and allows for more granular control over error handling.\n",
    "\n",
    "Here's an example that demonstrates the use of custom exceptions:\n",
    "\n",
    "```python\n",
    "class InsufficientBalanceError(Exception):\n",
    "    def __init__(self, balance, amount):\n",
    "        self.balance = balance\n",
    "        self.amount = amount\n",
    "        self.message = f\"Insufficient balance. Available: {balance}, Required: {amount}\"\n",
    "        super().__init__(self.message)\n",
    "\n",
    "class BankAccount:\n",
    "    def __init__(self, balance):\n",
    "        self.balance = balance\n",
    "\n",
    "    def withdraw(self, amount):\n",
    "        if amount > self.balance:\n",
    "            raise InsufficientBalanceError(self.balance, amount)\n",
    "        self.balance -= amount\n",
    "\n",
    "# Example usage:\n",
    "account = BankAccount(1000)\n",
    "try:\n",
    "    account.withdraw(2000)\n",
    "except InsufficientBalanceError as e:\n",
    "    print(e.message)\n",
    "```\n",
    "\n"
   ]
  },
  {
   "attachments": {},
   "cell_type": "markdown",
   "metadata": {},
   "source": [
    "Q6. Create a custom exception class. Use this class to handle an exception."
   ]
  },
  {
   "cell_type": "code",
   "execution_count": 1,
   "metadata": {},
   "outputs": [
    {
     "name": "stdout",
     "output_type": "stream",
     "text": [
      "Invalid email format: example.com\n"
     ]
    }
   ],
   "source": [
    "class InvalidEmailError(Exception):\n",
    "    def __init__(self, email):\n",
    "        self.email = email\n",
    "        self.message = f\"Invalid email format: {email}\"\n",
    "        super().__init__(self.message)\n",
    "\n",
    "def send_email(to_email):\n",
    "    if \"@\" not in to_email:\n",
    "        raise InvalidEmailError(to_email)\n",
    "    # Code to send the email\n",
    "\n",
    "# Example usage:\n",
    "try:\n",
    "    recipient_email = \"example.com\"\n",
    "    send_email(recipient_email)\n",
    "except InvalidEmailError as e:\n",
    "    print(e.message)\n"
   ]
  },
  {
   "cell_type": "code",
   "execution_count": null,
   "metadata": {},
   "outputs": [],
   "source": []
  }
 ],
 "metadata": {
  "kernelspec": {
   "display_name": "Python 3",
   "language": "python",
   "name": "python3"
  },
  "language_info": {
   "codemirror_mode": {
    "name": "ipython",
    "version": 3
   },
   "file_extension": ".py",
   "mimetype": "text/x-python",
   "name": "python",
   "nbconvert_exporter": "python",
   "pygments_lexer": "ipython3",
   "version": "3.10.7"
  },
  "orig_nbformat": 4
 },
 "nbformat": 4,
 "nbformat_minor": 2
}
