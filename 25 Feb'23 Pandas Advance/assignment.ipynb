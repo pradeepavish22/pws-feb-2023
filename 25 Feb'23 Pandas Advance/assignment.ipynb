{
 "cells": [
  {
   "cell_type": "markdown",
   "metadata": {},
   "source": [
    "<h2 style='color:blue;font-weight:bold;text-align:center;'>**PWSkills Assignment **<h2>"
   ]
  },
  {
   "cell_type": "markdown",
   "metadata": {},
   "source": [
    "<p style='color:green;font-weight:bold'>  Q1. Write a code to print the data present in the second row of the dataframe, df.</p>"
   ]
  },
  {
   "cell_type": "code",
   "execution_count": 4,
   "metadata": {},
   "outputs": [
    {
     "data": {
      "text/html": [
       "<div>\n",
       "<style scoped>\n",
       "    .dataframe tbody tr th:only-of-type {\n",
       "        vertical-align: middle;\n",
       "    }\n",
       "\n",
       "    .dataframe tbody tr th {\n",
       "        vertical-align: top;\n",
       "    }\n",
       "\n",
       "    .dataframe thead th {\n",
       "        text-align: right;\n",
       "    }\n",
       "</style>\n",
       "<table border=\"1\" class=\"dataframe\">\n",
       "  <thead>\n",
       "    <tr style=\"text-align: right;\">\n",
       "      <th></th>\n",
       "      <th>course_name</th>\n",
       "      <th>duration</th>\n",
       "    </tr>\n",
       "  </thead>\n",
       "  <tbody>\n",
       "    <tr>\n",
       "      <th>0</th>\n",
       "      <td>Data Science</td>\n",
       "      <td>2</td>\n",
       "    </tr>\n",
       "    <tr>\n",
       "      <th>1</th>\n",
       "      <td>Machine Learning</td>\n",
       "      <td>3</td>\n",
       "    </tr>\n",
       "    <tr>\n",
       "      <th>2</th>\n",
       "      <td>Big Data</td>\n",
       "      <td>6</td>\n",
       "    </tr>\n",
       "    <tr>\n",
       "      <th>3</th>\n",
       "      <td>Data Engineer</td>\n",
       "      <td>4</td>\n",
       "    </tr>\n",
       "  </tbody>\n",
       "</table>\n",
       "</div>"
      ],
      "text/plain": [
       "        course_name  duration\n",
       "0      Data Science         2\n",
       "1  Machine Learning         3\n",
       "2          Big Data         6\n",
       "3     Data Engineer         4"
      ]
     },
     "execution_count": 4,
     "metadata": {},
     "output_type": "execute_result"
    }
   ],
   "source": [
    "import pandas as pd\n",
    "\n",
    "course_name = ['Data Science', 'Machine Learning', 'Big Data', 'Data Engineer']\n",
    "\n",
    "duration = [2,3,6,4]\n",
    "\n",
    "df = pd.DataFrame(data = {'course_name' : course_name, 'duration' : duration})\n",
    "\n",
    "df"
   ]
  },
  {
   "cell_type": "markdown",
   "metadata": {},
   "source": [
    "<p style='color:green;font-weight:bold'>  Q2. What is the difference between the functions loc and iloc in pandas.DataFrame?</p>"
   ]
  },
  {
   "cell_type": "markdown",
   "metadata": {},
   "source": [
    "1.**loc** stands for \"location\" and is used for label-based indexing. It allows you to access rows and columns in a DataFrame using their labels (index and column names). The basic syntax for loc is df.loc[row_label, column_label].\n",
    "\n",
    "2.**iloc** stands for \"integer location\" and is used for integer-based indexing. It allows you to access rows and columns in a DataFrame using their integer positions (index positions). The basic syntax for iloc is df.iloc[row_index, column_index].\n",
    "\n",
    "Here's a more detailed explanation of the differences between loc and iloc:\n",
    "\n",
    "**loc:**\n",
    "- Uses labels (index and column names) to access data.\n",
    "- Both row and column labels are inclusive (closed interval).\n",
    "- Allows boolean indexing for filtering rows based on conditions.\n",
    "- Syntax: df.loc[row_label, column_label] or df.loc[row_label] for accessing entire rows.\n",
    "Example:"
   ]
  },
  {
   "cell_type": "code",
   "execution_count": 5,
   "metadata": {},
   "outputs": [
    {
     "name": "stdout",
     "output_type": "stream",
     "text": [
      "25\n",
      "San Francisco\n",
      "    Name  Age           City\n",
      "A  Alice   25       New York\n",
      "B    Bob   30  San Francisco\n"
     ]
    }
   ],
   "source": [
    "import pandas as pd\n",
    "\n",
    "# Example DataFrame\n",
    "data = {\n",
    "    'Name': ['Alice', 'Bob', 'Charlie'],\n",
    "    'Age': [25, 30, 22],\n",
    "    'City': ['New York', 'San Francisco', 'Los Angeles']\n",
    "}\n",
    "df = pd.DataFrame(data, index=['A', 'B', 'C'])\n",
    "\n",
    "# Using loc to access data\n",
    "print(df.loc['A', 'Age'])    # Output: 25\n",
    "print(df.loc['B', 'City'])   # Output: San Francisco\n",
    "print(df.loc['A':'B', 'Name':'City'])\n"
   ]
  },
  {
   "cell_type": "markdown",
   "metadata": {},
   "source": [
    "**iloc:**\n",
    "- Uses integer positions (0-based) to access data.\n",
    "- The row and column positions are exclusive for the endpoint (half-open interval).\n",
    "- Does not support boolean indexing for filtering rows based on conditions (only integer indexing).\n",
    "- Syntax: df.iloc[row_index, column_index] or df.iloc[row_index] for accessing entire rows."
   ]
  },
  {
   "cell_type": "code",
   "execution_count": 6,
   "metadata": {},
   "outputs": [
    {
     "name": "stdout",
     "output_type": "stream",
     "text": [
      "25\n",
      "San Francisco\n",
      "    Name  Age\n",
      "A  Alice   25\n",
      "B    Bob   30\n"
     ]
    }
   ],
   "source": [
    "# Using iloc to access data\n",
    "print(df.iloc[0, 1])     # Output: 25 (Age of the first row)\n",
    "print(df.iloc[1, 2])     # Output: Los Angeles (City of the second row)\n",
    "print(df.iloc[0:2, 0:2])"
   ]
  },
  {
   "cell_type": "markdown",
   "metadata": {},
   "source": [
    "<p style='color:green;font-weight:bold'>  Q3. Reindex the given dataframe using a variable, reindex = [3,0,1,2] and store it in the variable, new_df \n",
    "then find the output for both new_df.loc[2] and new_df.iloc[2].</p>"
   ]
  },
  {
   "cell_type": "markdown",
   "metadata": {},
   "source": [
    "Did you observe any difference in both the outputs? If so then explain it. Consider the below code to answer further questions:"
   ]
  },
  {
   "cell_type": "code",
   "execution_count": 12,
   "metadata": {},
   "outputs": [
    {
     "name": "stdout",
     "output_type": "stream",
     "text": [
      "New DataFrame:\n",
      "   column_1  column_2  column_3  column_4  column_5  column_6\n",
      "3  0.677755  0.695997  0.320592  0.436197  0.254035  0.283859\n",
      "0       NaN       NaN       NaN       NaN       NaN       NaN\n",
      "1  0.134415  0.293686  0.111696  0.224464  0.177843  0.596757\n",
      "2  0.446137  0.814953  0.905378  0.318009  0.896252  0.638121\n",
      "============================================================\n",
      "\n",
      "Output for new_df.loc[2]:\n",
      "column_1    0.446137\n",
      "column_2    0.814953\n",
      "column_3    0.905378\n",
      "column_4    0.318009\n",
      "column_5    0.896252\n",
      "column_6    0.638121\n",
      "Name: 2, dtype: float64\n",
      "============================================================\n",
      "\n",
      "Output for new_df.iloc[2]:\n",
      "column_1    0.134415\n",
      "column_2    0.293686\n",
      "column_3    0.111696\n",
      "column_4    0.224464\n",
      "column_5    0.177843\n",
      "column_6    0.596757\n",
      "Name: 1, dtype: float64\n"
     ]
    }
   ],
   "source": [
    "import pandas as pd\n",
    "\n",
    "import numpy as np\n",
    "\n",
    "columns = ['column_1', 'column_2', 'column_3', 'column_4', 'column_5', 'column_6']\n",
    "\n",
    "indices = [1,2,3,4,5,6]\n",
    "\n",
    "#Creating a dataframe:\n",
    "\n",
    "df1 = pd.DataFrame(np.random.rand(6,6), columns = columns, index = indices)\n",
    "\n",
    "# Reindex the DataFrame using the list [3, 0, 1, 2]\n",
    "new_df = df1.reindex([3, 0, 1, 2])\n",
    "\n",
    "# Print the new DataFrame\n",
    "print(\"New DataFrame:\")\n",
    "print(new_df)\n",
    "\n",
    "print(\"============================================================\",end=\"\\n\")\n",
    "\n",
    "# Output for new_df.loc[2] and new_df.iloc[2]\n",
    "print(\"\\nOutput for new_df.loc[2]:\")\n",
    "print(new_df.loc[2])\n",
    "\n",
    "print(\"============================================================\",end=\"\\n\")\n",
    "\n",
    "print(\"\\nOutput for new_df.iloc[2]:\")\n",
    "print(new_df.iloc[2])\n"
   ]
  },
  {
   "cell_type": "code",
   "execution_count": 8,
   "metadata": {},
   "outputs": [
    {
     "data": {
      "text/html": [
       "<div>\n",
       "<style scoped>\n",
       "    .dataframe tbody tr th:only-of-type {\n",
       "        vertical-align: middle;\n",
       "    }\n",
       "\n",
       "    .dataframe tbody tr th {\n",
       "        vertical-align: top;\n",
       "    }\n",
       "\n",
       "    .dataframe thead th {\n",
       "        text-align: right;\n",
       "    }\n",
       "</style>\n",
       "<table border=\"1\" class=\"dataframe\">\n",
       "  <thead>\n",
       "    <tr style=\"text-align: right;\">\n",
       "      <th></th>\n",
       "      <th>column_1</th>\n",
       "      <th>column_2</th>\n",
       "      <th>column_3</th>\n",
       "      <th>column_4</th>\n",
       "      <th>column_5</th>\n",
       "      <th>column_6</th>\n",
       "    </tr>\n",
       "  </thead>\n",
       "  <tbody>\n",
       "    <tr>\n",
       "      <th>1</th>\n",
       "      <td>0.629279</td>\n",
       "      <td>0.035779</td>\n",
       "      <td>0.795891</td>\n",
       "      <td>0.289817</td>\n",
       "      <td>0.436646</td>\n",
       "      <td>0.466556</td>\n",
       "    </tr>\n",
       "    <tr>\n",
       "      <th>2</th>\n",
       "      <td>0.970965</td>\n",
       "      <td>0.815609</td>\n",
       "      <td>0.550135</td>\n",
       "      <td>0.700245</td>\n",
       "      <td>0.747798</td>\n",
       "      <td>0.200979</td>\n",
       "    </tr>\n",
       "    <tr>\n",
       "      <th>3</th>\n",
       "      <td>0.729831</td>\n",
       "      <td>0.175070</td>\n",
       "      <td>0.399462</td>\n",
       "      <td>0.155231</td>\n",
       "      <td>0.020364</td>\n",
       "      <td>0.594834</td>\n",
       "    </tr>\n",
       "    <tr>\n",
       "      <th>4</th>\n",
       "      <td>0.320071</td>\n",
       "      <td>0.705683</td>\n",
       "      <td>0.291959</td>\n",
       "      <td>0.396074</td>\n",
       "      <td>0.553928</td>\n",
       "      <td>0.172039</td>\n",
       "    </tr>\n",
       "    <tr>\n",
       "      <th>5</th>\n",
       "      <td>0.371140</td>\n",
       "      <td>0.029113</td>\n",
       "      <td>0.842453</td>\n",
       "      <td>0.974786</td>\n",
       "      <td>0.844435</td>\n",
       "      <td>0.813245</td>\n",
       "    </tr>\n",
       "    <tr>\n",
       "      <th>6</th>\n",
       "      <td>0.753709</td>\n",
       "      <td>0.033965</td>\n",
       "      <td>0.574609</td>\n",
       "      <td>0.960859</td>\n",
       "      <td>0.921858</td>\n",
       "      <td>0.544255</td>\n",
       "    </tr>\n",
       "  </tbody>\n",
       "</table>\n",
       "</div>"
      ],
      "text/plain": [
       "   column_1  column_2  column_3  column_4  column_5  column_6\n",
       "1  0.629279  0.035779  0.795891  0.289817  0.436646  0.466556\n",
       "2  0.970965  0.815609  0.550135  0.700245  0.747798  0.200979\n",
       "3  0.729831  0.175070  0.399462  0.155231  0.020364  0.594834\n",
       "4  0.320071  0.705683  0.291959  0.396074  0.553928  0.172039\n",
       "5  0.371140  0.029113  0.842453  0.974786  0.844435  0.813245\n",
       "6  0.753709  0.033965  0.574609  0.960859  0.921858  0.544255"
      ]
     },
     "execution_count": 8,
     "metadata": {},
     "output_type": "execute_result"
    }
   ],
   "source": [
    "df1"
   ]
  },
  {
   "cell_type": "markdown",
   "metadata": {},
   "source": [
    "<p style='color:green;font-weight:bold'>  Q4. Write a code to find the following statistical measurements for the above dataframe df1:</p>\n",
    "\n",
    "(i) \tmean of each and every column present in the dataframe.\n",
    "\n",
    "(ii) standard deviation of column, ‘column_2’"
   ]
  },
  {
   "cell_type": "code",
   "execution_count": 14,
   "metadata": {},
   "outputs": [
    {
     "name": "stdout",
     "output_type": "stream",
     "text": [
      "Mean of each column:\n",
      "column_1    0.561210\n",
      "column_2    0.603277\n",
      "column_3    0.544222\n",
      "column_4    0.462879\n",
      "column_5    0.412505\n",
      "column_6    0.500206\n",
      "dtype: float64\n",
      "============================================================\n",
      "\n",
      "Standard deviation of 'column_2':\n",
      "0.21500416898956898\n"
     ]
    }
   ],
   "source": [
    "# (i) Mean of each column in the DataFrame\n",
    "mean_values = df1.mean()\n",
    "print(\"Mean of each column:\")\n",
    "print(mean_values)\n",
    "print(\"============================================================\",end=\"\\n\")\n",
    "# (ii) Standard deviation of 'column_2'\n",
    "std_column_2 = df1['column_2'].std()\n",
    "print(\"\\nStandard deviation of 'column_2':\")\n",
    "print(std_column_2)"
   ]
  },
  {
   "cell_type": "markdown",
   "metadata": {},
   "source": [
    "<p style='color:green;font-weight:bold'>  Q5. Replace the data present in the second row of column, ‘column_2’ by a string variable then find the \n",
    "mean of column, column_2.</p>\n",
    "\n",
    "If you are getting errors in executing it then explain why.\n",
    "\n",
    "[Hint: To replace the data use df1.loc[] and equate this to string data of your choice.]"
   ]
  },
  {
   "cell_type": "code",
   "execution_count": 16,
   "metadata": {},
   "outputs": [],
   "source": [
    "# Replace the data in the second row of 'column_2' with a string variable\n",
    "df1.loc[1, 'column_2'] = 'string_data'\n",
    "\n",
    "# Find the mean of 'column_2'\n",
    "mean_column_2 = df1['column_2'].mean()\n",
    "print(\"Mean of 'column_2':\", mean_column_2)"
   ]
  },
  {
   "cell_type": "markdown",
   "metadata": {},
   "source": [
    "1.The df1.loc[1, 'column_2'] = 'string_data' statement successfully replaces the value in the second row of 'column_2' with the string 'string_data'.\n",
    "\n",
    "2.However, when calculating the mean using df1['column_2'].mean(), Pandas tries to convert all values in 'column_2' to a numeric type to calculate the mean. Since one of the values is now a string ('string_data'), Pandas raises a TypeError because it cannot convert the string to a float (as required for numeric calculation).\n",
    "To avoid the error, you should ensure that all values in 'column_2' are of the same data type (preferably numeric) before calculating the mean. If you need to include both numeric and string data in the same column, you may need to convert the entire column to a dtype that can handle both types, such as 'object', which allows mixed data types but prevents arithmetic calculations like the mean.\n",
    "\n",
    "\n",
    "\n",
    "\n",
    "\n"
   ]
  },
  {
   "cell_type": "markdown",
   "metadata": {},
   "source": [
    "<p style='color:green;font-weight:bold'>  Q6. What do you understand about the windows function in pandas and list the types of windows \n",
    "functions?</p>"
   ]
  },
  {
   "cell_type": "markdown",
   "metadata": {},
   "source": [
    "1.**rolling()**: This window function is used for rolling window computations. It creates a \"rolling view\" of the data, where you can calculate various aggregate functions (like mean, sum, etc.) for each window. The window size can be fixed or variable."
   ]
  },
  {
   "cell_type": "code",
   "execution_count": 17,
   "metadata": {},
   "outputs": [
    {
     "name": "stdout",
     "output_type": "stream",
     "text": [
      "0     NaN\n",
      "1    15.0\n",
      "2    25.0\n",
      "3    35.0\n",
      "4    45.0\n",
      "dtype: float64\n"
     ]
    }
   ],
   "source": [
    "import pandas as pd\n",
    "\n",
    "# Creating a Series\n",
    "data = pd.Series([10, 20, 30, 40, 50])\n",
    "\n",
    "# Calculating the rolling mean with a window size of 2\n",
    "rolling_mean = data.rolling(window=2).mean()\n",
    "print(rolling_mean)"
   ]
  },
  {
   "cell_type": "markdown",
   "metadata": {},
   "source": [
    "2.**expanding()**: The expanding() function creates an expanding window view of the data. It starts from the beginning of the data and expands the window with each observation, performing calculations for the entire data seen so far."
   ]
  },
  {
   "cell_type": "code",
   "execution_count": 18,
   "metadata": {},
   "outputs": [
    {
     "name": "stdout",
     "output_type": "stream",
     "text": [
      "0     10.0\n",
      "1     30.0\n",
      "2     60.0\n",
      "3    100.0\n",
      "4    150.0\n",
      "dtype: float64\n"
     ]
    }
   ],
   "source": [
    "import pandas as pd\n",
    "\n",
    "# Creating a Series\n",
    "data = pd.Series([10, 20, 30, 40, 50])\n",
    "\n",
    "# Calculating the expanding sum\n",
    "expanding_sum = data.expanding().sum()\n",
    "print(expanding_sum)\n"
   ]
  },
  {
   "cell_type": "markdown",
   "metadata": {},
   "source": [
    "3.**ewm()**: This window function stands for \"exponentially weighted moving.\" It calculates exponentially weighted statistics for each window. It is commonly used for time-series data to give more weight to recent observations."
   ]
  },
  {
   "cell_type": "code",
   "execution_count": 19,
   "metadata": {},
   "outputs": [
    {
     "name": "stdout",
     "output_type": "stream",
     "text": [
      "0    10.000000\n",
      "1    17.500000\n",
      "2    26.153846\n",
      "3    35.500000\n",
      "4    45.206612\n",
      "dtype: float64\n"
     ]
    }
   ],
   "source": [
    "import pandas as pd\n",
    "\n",
    "# Creating a Series\n",
    "data = pd.Series([10, 20, 30, 40, 50])\n",
    "\n",
    "# Calculating the exponentially weighted moving average\n",
    "ewm_mean = data.ewm(span=2).mean()\n",
    "print(ewm_mean)\n"
   ]
  },
  {
   "cell_type": "markdown",
   "metadata": {},
   "source": [
    "<p style='color:green;font-weight:bold'>  Q7. Write a code to print only the current month and year at the time of answering this question.></p>"
   ]
  },
  {
   "cell_type": "code",
   "execution_count": 20,
   "metadata": {},
   "outputs": [
    {
     "name": "stdout",
     "output_type": "stream",
     "text": [
      "Current Month: 7\n",
      "Current Year: 2023\n"
     ]
    }
   ],
   "source": [
    "import datetime\n",
    "\n",
    "# Get the current date and time\n",
    "current_date_time = datetime.datetime.now()\n",
    "\n",
    "# Extract the current month and year from the date\n",
    "current_month = current_date_time.month\n",
    "current_year = current_date_time.year\n",
    "\n",
    "# Print the current month and year\n",
    "print(\"Current Month:\", current_month)\n",
    "print(\"Current Year:\", current_year)\n"
   ]
  },
  {
   "cell_type": "markdown",
   "metadata": {},
   "source": [
    "<p style='color:green;font-weight:bold'>  Q8. Write a Python program that takes in two dates as input (in the format YYYY-MM-DD) and \n",
    "calculates the difference between them in days, hours, and minutes using Pandas time delta. The \n",
    "program should prompt the user to enter the dates and display the result.</p>"
   ]
  },
  {
   "cell_type": "code",
   "execution_count": 23,
   "metadata": {},
   "outputs": [
    {
     "name": "stdout",
     "output_type": "stream",
     "text": [
      "\n",
      "Time Difference: 9 days, 0 hours, 0 minutes.\n"
     ]
    }
   ],
   "source": [
    "import pandas as pd\n",
    "\n",
    "def calculate_time_difference(start_date, end_date):\n",
    "    # Convert the input dates to pandas datetime objects\n",
    "    start_date = pd.to_datetime(start_date)\n",
    "    end_date = pd.to_datetime(end_date)\n",
    "\n",
    "    # Calculate the time difference using Pandas Timedelta\n",
    "    time_difference = end_date - start_date\n",
    "\n",
    "    # Extract the days, hours, and minutes from the time difference\n",
    "    days = time_difference.days\n",
    "    hours = time_difference.seconds // 3600\n",
    "    minutes = (time_difference.seconds // 60) % 60\n",
    "\n",
    "    return days, hours, minutes\n",
    "\n",
    "# Get input from the user\n",
    "start_date_input = input(\"Enter the start date (YYYY-MM-DD): \")\n",
    "end_date_input = input(\"Enter the end date (YYYY-MM-DD): \")\n",
    "\n",
    "# Calculate the time difference\n",
    "days_diff, hours_diff, minutes_diff = calculate_time_difference(start_date_input, end_date_input)\n",
    "\n",
    "# Display the result\n",
    "print(f\"\\nTime Difference: {days_diff} days, {hours_diff} hours, {minutes_diff} minutes.\")\n",
    "\n"
   ]
  },
  {
   "cell_type": "markdown",
   "metadata": {},
   "source": [
    "<p style='color:green;font-weight:bold'>  Q9. Write a Python program that reads a CSV file containing categorical data and converts a specified \n",
    "column to a categorical data type. The program should prompt the user to enter the file path, column \n",
    "name, and category order, and then display the sorted data.</p>"
   ]
  },
  {
   "cell_type": "code",
   "execution_count": 24,
   "metadata": {},
   "outputs": [
    {
     "name": "stdout",
     "output_type": "stream",
     "text": [
      "\n",
      "Sorted Data:\n",
      "       Year Industry_aggregation_NZSIOC Industry_code_NZSIOC  \\\n",
      "0      2021                     Level 1                99999   \n",
      "1      2021                     Level 1                99999   \n",
      "2      2021                     Level 1                99999   \n",
      "3      2021                     Level 1                99999   \n",
      "4      2021                     Level 1                99999   \n",
      "...     ...                         ...                  ...   \n",
      "41710  2013                     Level 3                 ZZ11   \n",
      "41711  2013                     Level 3                 ZZ11   \n",
      "41712  2013                     Level 3                 ZZ11   \n",
      "41713  2013                     Level 3                 ZZ11   \n",
      "41714  2013                     Level 3                 ZZ11   \n",
      "\n",
      "             Industry_name_NZSIOC               Units Variable_code  \\\n",
      "0                  All industries  Dollars (millions)           NaN   \n",
      "1                  All industries  Dollars (millions)           NaN   \n",
      "2                  All industries  Dollars (millions)           NaN   \n",
      "3                  All industries  Dollars (millions)           NaN   \n",
      "4                  All industries  Dollars (millions)           NaN   \n",
      "...                           ...                 ...           ...   \n",
      "41710  Food product manufacturing          Percentage           NaN   \n",
      "41711  Food product manufacturing          Percentage           NaN   \n",
      "41712  Food product manufacturing          Percentage           NaN   \n",
      "41713  Food product manufacturing          Percentage           NaN   \n",
      "41714  Food product manufacturing          Percentage           NaN   \n",
      "\n",
      "                                         Variable_name      Variable_category  \\\n",
      "0                                         Total income  Financial performance   \n",
      "1      Sales, government funding, grants and subsidies  Financial performance   \n",
      "2                    Interest, dividends and donations  Financial performance   \n",
      "3                                 Non-operating income  Financial performance   \n",
      "4                                    Total expenditure  Financial performance   \n",
      "...                                                ...                    ...   \n",
      "41710                                      Quick ratio       Financial ratios   \n",
      "41711              Margin on sales of goods for resale       Financial ratios   \n",
      "41712                                 Return on equity       Financial ratios   \n",
      "41713                           Return on total assets       Financial ratios   \n",
      "41714                            Liabilities structure       Financial ratios   \n",
      "\n",
      "         Value                             Industry_code_ANZSIC06  \n",
      "0      757,504  ANZSIC06 divisions A-S (excluding classes K633...  \n",
      "1      674,890  ANZSIC06 divisions A-S (excluding classes K633...  \n",
      "2       49,593  ANZSIC06 divisions A-S (excluding classes K633...  \n",
      "3       33,020  ANZSIC06 divisions A-S (excluding classes K633...  \n",
      "4      654,404  ANZSIC06 divisions A-S (excluding classes K633...  \n",
      "...        ...                                                ...  \n",
      "41710       52  ANZSIC06 groups C111, C112, C113, C114, C115, ...  \n",
      "41711       40  ANZSIC06 groups C111, C112, C113, C114, C115, ...  \n",
      "41712       12  ANZSIC06 groups C111, C112, C113, C114, C115, ...  \n",
      "41713        5  ANZSIC06 groups C111, C112, C113, C114, C115, ...  \n",
      "41714       46  ANZSIC06 groups C111, C112, C113, C114, C115, ...  \n",
      "\n",
      "[41715 rows x 10 columns]\n"
     ]
    }
   ],
   "source": [
    "import pandas as pd\n",
    "\n",
    "def convert_to_categorical(df, column_name, category_order):\n",
    "    # Convert the specified column to categorical with custom category order\n",
    "    df[column_name] = pd.Categorical(df[column_name], categories=category_order, ordered=True)\n",
    "\n",
    "    # Sort the DataFrame based on the categorical column\n",
    "    df_sorted = df.sort_values(by=column_name)\n",
    "\n",
    "    return df_sorted\n",
    "\n",
    "# Get input from the user\n",
    "file_path = input(\"Enter the CSV file path: \")\n",
    "column_name = input(\"Enter the column name to convert to categorical: \")\n",
    "category_order_str = input(\"Enter the category order (comma-separated): \")\n",
    "\n",
    "# Split the comma-separated category order into a list\n",
    "category_order = category_order_str.split(',')\n",
    "\n",
    "# Read the CSV file into a DataFrame\n",
    "df = pd.read_csv(file_path)\n",
    "\n",
    "# Call the function to convert and sort the data\n",
    "df_sorted = convert_to_categorical(df, column_name, category_order)\n",
    "\n",
    "# Display the sorted data\n",
    "print(\"\\nSorted Data:\")\n",
    "print(df_sorted)\n",
    "\n",
    "## Link Below ##\n",
    "##https://www.stats.govt.nz//assets/Uploads/Annual-enterprise-survey/Annual-enterprise-survey-2021-financial-year-provisional/Download-data/annual-enterprise-survey-2021-financial-year-provisional-csv.csv\n",
    "## column name: Variable_code\n",
    "## category_order: Variable_code\n"
   ]
  },
  {
   "cell_type": "markdown",
   "metadata": {},
   "source": [
    "<p style='color:green;font-weight:bold'>  Q10. Write a Python program that reads a CSV file containing sales data for different products and \n",
    "visualizes the data using a stacked bar chart to show the sales of each product category over time. The \n",
    "program should prompt the user to enter the file path and display the chart.</p>"
   ]
  },
  {
   "cell_type": "code",
   "execution_count": 1,
   "metadata": {},
   "outputs": [
    {
     "name": "stdout",
     "output_type": "stream",
     "text": [
      "Unexpected exception formatting exception. Falling back to standard exception\n"
     ]
    },
    {
     "name": "stderr",
     "output_type": "stream",
     "text": [
      "Traceback (most recent call last):\n",
      "  File \"c:\\Users\\prade\\AppData\\Local\\Programs\\Python\\Python310\\lib\\site-packages\\IPython\\core\\interactiveshell.py\", line 3378, in run_code\n",
      "    exec(code_obj, self.user_global_ns, self.user_ns)\n",
      "  File \"C:\\Users\\prade\\AppData\\Local\\Temp\\ipykernel_13356\\2634012353.py\", line 8, in <module>\n",
      "    df = pd.read_csv(file_path)\n",
      "  File \"c:\\Users\\prade\\AppData\\Local\\Programs\\Python\\Python310\\lib\\site-packages\\pandas\\util\\_decorators.py\", line 211, in wrapper\n",
      "    return func(*args, **kwargs)\n",
      "  File \"c:\\Users\\prade\\AppData\\Local\\Programs\\Python\\Python310\\lib\\site-packages\\pandas\\util\\_decorators.py\", line 331, in wrapper\n",
      "    return func(*args, **kwargs)\n",
      "  File \"c:\\Users\\prade\\AppData\\Local\\Programs\\Python\\Python310\\lib\\site-packages\\pandas\\io\\parsers\\readers.py\", line 950, in read_csv\n",
      "    return _read(filepath_or_buffer, kwds)\n",
      "  File \"c:\\Users\\prade\\AppData\\Local\\Programs\\Python\\Python310\\lib\\site-packages\\pandas\\io\\parsers\\readers.py\", line 605, in _read\n",
      "    parser = TextFileReader(filepath_or_buffer, **kwds)\n",
      "  File \"c:\\Users\\prade\\AppData\\Local\\Programs\\Python\\Python310\\lib\\site-packages\\pandas\\io\\parsers\\readers.py\", line 1442, in __init__\n",
      "    self._engine = self._make_engine(f, self.engine)\n",
      "  File \"c:\\Users\\prade\\AppData\\Local\\Programs\\Python\\Python310\\lib\\site-packages\\pandas\\io\\parsers\\readers.py\", line 1735, in _make_engine\n",
      "    self.handles = get_handle(\n",
      "  File \"c:\\Users\\prade\\AppData\\Local\\Programs\\Python\\Python310\\lib\\site-packages\\pandas\\io\\common.py\", line 856, in get_handle\n",
      "    handle = open(\n",
      "OSError: [Errno 22] Invalid argument: \"D:\\\\Python Program\\\\DS-2023\\\\PWSkills\\x07ssignment\\x14 Feb'23 Pandas Advance\\\\Amazon Sale Report.csv\"\n",
      "\n",
      "During handling of the above exception, another exception occurred:\n",
      "\n",
      "Traceback (most recent call last):\n",
      "  File \"c:\\Users\\prade\\AppData\\Local\\Programs\\Python\\Python310\\lib\\site-packages\\IPython\\core\\interactiveshell.py\", line 1997, in showtraceback\n",
      "    stb = self.InteractiveTB.structured_traceback(\n",
      "  File \"c:\\Users\\prade\\AppData\\Local\\Programs\\Python\\Python310\\lib\\site-packages\\IPython\\core\\ultratb.py\", line 1112, in structured_traceback\n",
      "    return FormattedTB.structured_traceback(\n",
      "  File \"c:\\Users\\prade\\AppData\\Local\\Programs\\Python\\Python310\\lib\\site-packages\\IPython\\core\\ultratb.py\", line 1006, in structured_traceback\n",
      "    return VerboseTB.structured_traceback(\n",
      "  File \"c:\\Users\\prade\\AppData\\Local\\Programs\\Python\\Python310\\lib\\site-packages\\IPython\\core\\ultratb.py\", line 859, in structured_traceback\n",
      "    formatted_exception = self.format_exception_as_a_whole(etype, evalue, etb, number_of_lines_of_context,\n",
      "  File \"c:\\Users\\prade\\AppData\\Local\\Programs\\Python\\Python310\\lib\\site-packages\\IPython\\core\\ultratb.py\", line 793, in format_exception_as_a_whole\n",
      "    self.get_records(etb, number_of_lines_of_context, tb_offset) if etb else []\n",
      "  File \"c:\\Users\\prade\\AppData\\Local\\Programs\\Python\\Python310\\lib\\site-packages\\IPython\\core\\ultratb.py\", line 839, in get_records\n",
      "    style = stack_data.style_with_executing_node(style, \"bg:ansiyellow\")\n",
      "  File \"c:\\Users\\prade\\AppData\\Local\\Programs\\Python\\Python310\\lib\\site-packages\\stack_data\\core.py\", line 455, in style_with_executing_node\n",
      "    class NewStyle(style):\n",
      "  File \"c:\\Users\\prade\\AppData\\Local\\Programs\\Python\\Python310\\lib\\site-packages\\pygments\\style.py\", line 91, in __new__\n",
      "    ndef[4] = colorformat(styledef[3:])\n",
      "  File \"c:\\Users\\prade\\AppData\\Local\\Programs\\Python\\Python310\\lib\\site-packages\\pygments\\style.py\", line 58, in colorformat\n",
      "    assert False, \"wrong color format %r\" % text\n",
      "AssertionError: wrong color format 'ansiyellow'\n"
     ]
    }
   ],
   "source": [
    "import pandas as pd\n",
    "import matplotlib.pyplot as plt\n",
    "\n",
    "# Get input from the user\n",
    "file_path = \"D:\\Python Program\\DS-2023\\PWSkills\\assignment\\24 Feb'23 Pandas Advance\\Amazon Sale Report.csv\"\n",
    "\n",
    "# Read the CSV file into a DataFrame\n",
    "df = pd.read_csv(file_path)\n",
    "\n",
    "# Assuming the DataFrame has 'Product_Category', 'Date', and 'Sales' columns\n",
    "# You may need to adjust the column names based on your CSV file\n",
    "\n",
    "# Convert 'Date' column to datetime type\n",
    "df['Date'] = pd.to_datetime(df['Date'])\n",
    "\n",
    "# Group the data by 'Product_Category' and 'Date' and calculate total sales\n",
    "grouped_data = df.groupby(['Category', 'Date'])['Amount'].sum().reset_index()\n",
    "\n",
    "# Pivot the data to get 'Product_Category' as columns and 'Date' as index\n",
    "pivot_data = grouped_data.pivot(index='Date', columns='Category', values='Amount')\n",
    "\n",
    "# Create the stacked bar chart\n",
    "pivot_data.plot(kind='bar', stacked=True, figsize=(10, 6))\n",
    "\n",
    "# Customize the chart labels and title\n",
    "plt.xlabel('Date')\n",
    "plt.ylabel('Sales')\n",
    "plt.title('Sales of Each Product Category Over Time')\n",
    "\n",
    "# Show the chart\n",
    "plt.legend(loc='upper left')\n",
    "plt.show()\n"
   ]
  },
  {
   "cell_type": "code",
   "execution_count": null,
   "metadata": {},
   "outputs": [],
   "source": []
  }
 ],
 "metadata": {
  "kernelspec": {
   "display_name": "Python 3",
   "language": "python",
   "name": "python3"
  },
  "language_info": {
   "codemirror_mode": {
    "name": "ipython",
    "version": 3
   },
   "file_extension": ".py",
   "mimetype": "text/x-python",
   "name": "python",
   "nbconvert_exporter": "python",
   "pygments_lexer": "ipython3",
   "version": "3.10.7"
  },
  "orig_nbformat": 4
 },
 "nbformat": 4,
 "nbformat_minor": 2
}
