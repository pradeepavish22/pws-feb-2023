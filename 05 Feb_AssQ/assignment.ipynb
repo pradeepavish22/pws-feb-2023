{
 "cells": [
  {
   "attachments": {},
   "cell_type": "markdown",
   "metadata": {},
   "source": [
    "Q1. Explain Class and Object with respect to Object-Oriented Programming. Give a suitable example."
   ]
  },
  {
   "attachments": {},
   "cell_type": "markdown",
   "metadata": {},
   "source": [
    "1. a class is a blueprint or a template that defines the characteristics (data) and behaviors (methods) that an object of that class can possess. It serves as a blueprint for creating objects, which are instances of the class. \n",
    "\n",
    "2. An object, on the other hand, is a specific instance of a class. It represents a unique entity that can have its own state (data) and behavior (methods). Objects are created based on the definition provided by the class, and they can interact with each other to perform various operations."
   ]
  },
  {
   "cell_type": "code",
   "execution_count": 2,
   "metadata": {},
   "outputs": [
    {
     "name": "stdout",
     "output_type": "stream",
     "text": [
      "Red\n",
      "Ford\n",
      "The car has started.\n",
      "Please start the car first.\n",
      "The car is accelerating.\n",
      "The car has stopped.\n"
     ]
    }
   ],
   "source": [
    "class Car:\n",
    "    def __init__(self, color, make, model):\n",
    "        self.color = color\n",
    "        self.make = make\n",
    "        self.model = model\n",
    "        self.is_running = False\n",
    "\n",
    "    def start(self):\n",
    "        self.is_running = True\n",
    "        print(\"The car has started.\")\n",
    "\n",
    "    def accelerate(self):\n",
    "        if self.is_running:\n",
    "            print(\"The car is accelerating.\")\n",
    "        else:\n",
    "            print(\"Please start the car first.\")\n",
    "\n",
    "    def stop(self):\n",
    "        if self.is_running:\n",
    "            self.is_running = False\n",
    "            print(\"The car has stopped.\")\n",
    "        else:\n",
    "            print(\"The car is already stopped.\")\n",
    "\n",
    "# Creating objects of the Car class\n",
    "car1 = Car(\"Red\", \"Honda\", \"Civic\")\n",
    "car2 = Car(\"Blue\", \"Ford\", \"Mustang\")\n",
    "\n",
    "# Accessing object properties\n",
    "print(car1.color)  # Output: Red\n",
    "print(car2.make)   # Output: Ford\n",
    "\n",
    "# Calling object methods\n",
    "car1.start()       # Output: The car has started.\n",
    "car2.accelerate()  # Output: Please start the car first.\n",
    "car1.accelerate()  # Output: The car is accelerating.\n",
    "car1.stop()        # Output: The car has stopped."
   ]
  },
  {
   "attachments": {},
   "cell_type": "markdown",
   "metadata": {},
   "source": [
    "Q2. Name the four pillars of OOPs."
   ]
  },
  {
   "attachments": {},
   "cell_type": "markdown",
   "metadata": {},
   "source": [
    "The four pillars of object-oriented programming (OOP) are:\n",
    "\n",
    "1. Encapsulation: Encapsulation is the concept of bundling data (attributes) and related behaviors (methods) together within a class, hiding the internal implementation details from outside access. It allows for the protection and controlled access to the data, ensuring that it is accessed and modified only through defined methods. In Python, encapsulation can be achieved by using access modifiers such as public, private, and protected, though Python follows a convention-based approach rather than strict enforcement.\n",
    "\n",
    "2. Inheritance: Inheritance allows classes to inherit attributes and methods from other classes, forming a hierarchical relationship between classes. A class that inherits from another class is called a subclass or derived class, while the class being inherited from is called a superclass or base class. Inheritance enables code reuse, promotes modularity, and supports the creation of specialized classes that inherit and extend the functionality of their parent classes. In Python, a class can inherit from another class by specifying the base class in parentheses after the class name.\n",
    "\n",
    "3. Polymorphism: Polymorphism refers to the ability of objects to exhibit different behaviors based on their data type or class. It allows different objects to respond differently to the same message or method call. Polymorphism can be achieved through method overriding and method overloading. Method overriding involves redefining a method in the subclass to provide its own implementation, while method overloading involves defining multiple methods with the same name but different parameters. Python supports both forms of polymorphism.\n",
    "\n",
    "4. Abstraction: Abstraction involves simplifying complex systems by representing essential features while hiding unnecessary details. It focuses on defining interfaces, abstract classes, and methods that provide a high-level view of the functionality, without exposing the internal implementation. Abstraction helps in managing complexity, promoting code reusability, and enhancing maintainability. In Python, abstraction can be achieved through abstract classes, which are classes that cannot be instantiated directly but serve as a blueprint for subclasses to implement specific functionality.\n",
    "\n"
   ]
  },
  {
   "attachments": {},
   "cell_type": "markdown",
   "metadata": {},
   "source": [
    "Q3. Explain why the __init__() function is used. Give a suitable example."
   ]
  },
  {
   "attachments": {},
   "cell_type": "markdown",
   "metadata": {},
   "source": [
    "The `__init__()` function in Python is a special method, also known as the constructor. It is automatically called when an object is created from a class. The primary purpose of the `__init__()` function is to initialize the attributes or properties of an object with the values provided during the object's creation."
   ]
  },
  {
   "cell_type": "code",
   "execution_count": 3,
   "metadata": {},
   "outputs": [
    {
     "name": "stdout",
     "output_type": "stream",
     "text": [
      "Alice\n",
      "30\n",
      "Hello, my name is Alice and I'm 25 years old.\n",
      "Hello, my name is Bob and I'm 30 years old.\n"
     ]
    }
   ],
   "source": [
    "\n",
    "class Person:\n",
    "    def __init__(self, name, age):\n",
    "        self.name = name\n",
    "        self.age = age\n",
    "\n",
    "    def introduce(self):\n",
    "        print(f\"Hello, my name is {self.name} and I'm {self.age} years old.\")\n",
    "\n",
    "# Creating objects of the Person class\n",
    "person1 = Person(\"Alice\", 25)\n",
    "person2 = Person(\"Bob\", 30)\n",
    "\n",
    "# Accessing object properties\n",
    "print(person1.name)  # Output: Alice\n",
    "print(person2.age)   # Output: 30\n",
    "\n",
    "# Calling object method\n",
    "person1.introduce()  # Output: Hello, my name is Alice and I'm 25 years old.\n",
    "person2.introduce()  # Output: Hello, my name is Bob and I'm 30 years old.\n"
   ]
  },
  {
   "attachments": {},
   "cell_type": "markdown",
   "metadata": {},
   "source": [
    "Q4. Why self is used in OOPs?"
   ]
  },
  {
   "attachments": {},
   "cell_type": "markdown",
   "metadata": {},
   "source": [
    "In object-oriented programming (OOP), the `self` parameter is used to refer to the instance (object) of a class within the class's methods. It is a convention in Python to name this parameter as `self`, although you can choose any valid name for it.\n",
    "\n",
    "The purpose of using `self` is to access and manipulate the attributes and methods of the object itself. When a method is called on an object, the `self` parameter is implicitly passed as the first argument to the method. By convention, it is explicitly declared as the first parameter in the method's definition."
   ]
  },
  {
   "cell_type": "code",
   "execution_count": 5,
   "metadata": {},
   "outputs": [
    {
     "name": "stdout",
     "output_type": "stream",
     "text": [
      "Alice\n",
      "25\n",
      "Hello, my name is Alice and I'm 25 years old.\n",
      "It's my birthday! Now I'm 26 years old.\n"
     ]
    }
   ],
   "source": [
    "class Person:\n",
    "    def __init__(self, name, age):\n",
    "        self.name = name\n",
    "        self.age = age\n",
    "\n",
    "    def introduce(self):\n",
    "        print(f\"Hello, my name is {self.name} and I'm {self.age} years old.\")\n",
    "\n",
    "    def celebrate_birthday(self):\n",
    "        self.age += 1\n",
    "        print(f\"It's my birthday! Now I'm {self.age} years old.\")\n",
    "\n",
    "# Creating an object of the Person class\n",
    "person = Person(\"Alice\", 25)\n",
    "\n",
    "# Accessing object attributes\n",
    "print(person.name)  # Output: Alice\n",
    "print(person.age)   # Output: 25\n",
    "\n",
    "# Calling object methods\n",
    "person.introduce()          # Output: Hello, my name is Alice and I'm 25 years old.\n",
    "person.celebrate_birthday() # Output: It's my birthday! Now I'm 26 years old."
   ]
  },
  {
   "attachments": {},
   "cell_type": "markdown",
   "metadata": {},
   "source": [
    "Q5. What is inheritance? Give an example for each type of inheritance."
   ]
  },
  {
   "attachments": {},
   "cell_type": "markdown",
   "metadata": {},
   "source": [
    "Inheritance is a fundamental concept in object-oriented programming (OOP) that allows one class to inherit attributes and methods from another class. The class that inherits is called the subclass or derived class, and the class being inherited from is called the superclass or base class. Inheritance establishes an \"is-a\" relationship between classes, where the subclass is a specialized version of the superclass.\n",
    "\n",
    "There are different types of inheritance:\n",
    "\n",
    "1. Single Inheritance: In single inheritance, a subclass inherits from a single superclass. It is the most basic form of inheritance."
   ]
  },
  {
   "cell_type": "code",
   "execution_count": 6,
   "metadata": {},
   "outputs": [
    {
     "name": "stdout",
     "output_type": "stream",
     "text": [
      "Buddy\n",
      "Labrador\n",
      "Dog barks.\n"
     ]
    }
   ],
   "source": [
    "\n",
    "\n",
    "class Animal:\n",
    "    def __init__(self, name):\n",
    "        self.name = name\n",
    "\n",
    "    def speak(self):\n",
    "        print(\"Animal speaks.\")\n",
    "\n",
    "\n",
    "class Dog(Animal):\n",
    "    def __init__(self, name, breed):\n",
    "        super().__init__(name)\n",
    "        self.breed = breed\n",
    "\n",
    "    def speak(self):\n",
    "        print(\"Dog barks.\")\n",
    "\n",
    "\n",
    "dog = Dog(\"Buddy\", \"Labrador\")\n",
    "print(dog.name)   # Output: Buddy\n",
    "print(dog.breed)  # Output: Labrador\n",
    "dog.speak()       # Output: Dog barks."
   ]
  },
  {
   "attachments": {},
   "cell_type": "markdown",
   "metadata": {},
   "source": [
    "\n",
    "2. Multiple Inheritance: Multiple inheritance is a feature where a subclass can inherit from multiple superclasses. It allows the subclass to acquire attributes and methods from multiple sources."
   ]
  },
  {
   "cell_type": "code",
   "execution_count": 7,
   "metadata": {},
   "outputs": [
    {
     "name": "stdout",
     "output_type": "stream",
     "text": [
      "I can fly.\n",
      "I can swim.\n"
     ]
    }
   ],
   "source": [
    "class Flyer:\n",
    "    def fly(self):\n",
    "        print(\"I can fly.\")\n",
    "\n",
    "\n",
    "class Swimmer:\n",
    "    def swim(self):\n",
    "        print(\"I can swim.\")\n",
    "\n",
    "\n",
    "class Duck(Flyer, Swimmer):\n",
    "    pass\n",
    "\n",
    "\n",
    "duck = Duck()\n",
    "duck.fly()   # Output: I can fly.\n",
    "duck.swim()  # Output: I can swim."
   ]
  },
  {
   "attachments": {},
   "cell_type": "markdown",
   "metadata": {},
   "source": [
    "3. Multilevel Inheritance: Multilevel inheritance occurs when a subclass is derived from another subclass, forming a chain of inheritance."
   ]
  },
  {
   "cell_type": "code",
   "execution_count": 8,
   "metadata": {},
   "outputs": [
    {
     "name": "stdout",
     "output_type": "stream",
     "text": [
      "Vehicle started.\n",
      "Car driving.\n",
      "Electric car charging.\n"
     ]
    }
   ],
   "source": [
    "class Vehicle:\n",
    "    def start(self):\n",
    "        print(\"Vehicle started.\")\n",
    "\n",
    "\n",
    "class Car(Vehicle):\n",
    "    def drive(self):\n",
    "        print(\"Car driving.\")\n",
    "\n",
    "\n",
    "class ElectricCar(Car):\n",
    "    def charge(self):\n",
    "        print(\"Electric car charging.\")\n",
    "\n",
    "\n",
    "electric_car = ElectricCar()\n",
    "electric_car.start()  # Output: Vehicle started.\n",
    "electric_car.drive()  # Output: Car driving.\n",
    "electric_car.charge() # Output: Electric car charging."
   ]
  },
  {
   "cell_type": "code",
   "execution_count": null,
   "metadata": {},
   "outputs": [],
   "source": []
  }
 ],
 "metadata": {
  "kernelspec": {
   "display_name": "Python 3",
   "language": "python",
   "name": "python3"
  },
  "language_info": {
   "codemirror_mode": {
    "name": "ipython",
    "version": 3
   },
   "file_extension": ".py",
   "mimetype": "text/x-python",
   "name": "python",
   "nbconvert_exporter": "python",
   "pygments_lexer": "ipython3",
   "version": "3.10.7"
  },
  "orig_nbformat": 4
 },
 "nbformat": 4,
 "nbformat_minor": 2
}
