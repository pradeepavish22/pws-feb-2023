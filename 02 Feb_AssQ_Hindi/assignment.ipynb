{
 "cells": [
  {
   "attachments": {},
   "cell_type": "markdown",
   "metadata": {},
   "source": [
    "<h2 style='color:blue;font-weight:bold;text-align:center;'>**PWSkills Assignment **<h2>"
   ]
  },
  {
   "attachments": {},
   "cell_type": "markdown",
   "metadata": {},
   "source": [
    "<h4 style='color:green;font-weight:bold'>Q1.  Explain with an example each when to use a for loop and a while loop.</h4>"
   ]
  },
  {
   "cell_type": "markdown",
   "metadata": {},
   "source": [
    "- Python While Loop is used to execute a block of statements repeatedly until a given condition is satisfied. And when the condition becomes false, the line immediately after the loop in the program is executed."
   ]
  },
  {
   "cell_type": "code",
   "execution_count": 3,
   "metadata": {},
   "outputs": [
    {
     "name": "stdout",
     "output_type": "stream",
     "text": [
      "Hello PWSkills\n",
      "Hello PWSkills\n",
      "Hello PWSkills\n",
      "Hello PWSkills\n",
      "Hello PWSkills\n"
     ]
    }
   ],
   "source": [
    "##Syntax: \n",
    "\n",
    "#while expression:\n",
    "## statement(s)\n",
    "# Python program to illustrate\n",
    "# while loop\n",
    "\n",
    "count = 0\n",
    "while (count < 5):\n",
    "    count = count + 1\n",
    "    print(\"Hello PWSkills\")"
   ]
  },
  {
   "attachments": {},
   "cell_type": "markdown",
   "metadata": {},
   "source": [
    "A for loop is used for iterating over a sequence (that is either a list, a tuple, a dictionary, a set, or a string)."
   ]
  },
  {
   "cell_type": "code",
   "execution_count": 5,
   "metadata": {},
   "outputs": [],
   "source": [
    "# Syntax:\n",
    "\n",
    "# for iterator_var in sequence:\n",
    "#     statements(s)"
   ]
  },
  {
   "cell_type": "code",
   "execution_count": 7,
   "metadata": {},
   "outputs": [
    {
     "name": "stdout",
     "output_type": "stream",
     "text": [
      "**List Iteration**\n",
      "p\n",
      "w\n",
      "skills\n",
      "\n",
      "**Tuple Iteration**\n",
      "p\n",
      "w\n",
      "skills\n",
      "\n",
      "**String Iteration**\n",
      "p\n",
      "w\n",
      "s\n",
      "k\n",
      "i\n",
      "l\n",
      "l\n",
      "s\n",
      "\n",
      "**Dictionary Iteration**\n",
      "p  1\n",
      "w  2\n",
      "skills  3\n",
      "\n",
      "**Set Iteration**\n",
      "p\n",
      "skills\n",
      "w\n"
     ]
    }
   ],
   "source": [
    "# Python program to illustrate\n",
    "# Iterating over a list\n",
    "print(\"**List Iteration**\")\n",
    "l = [\"p\", \"w\", \"skills\"]\n",
    "for i in l:\n",
    "    print(i)\n",
    " \n",
    "# Iterating over a tuple (immutable)\n",
    "print(\"\\n**Tuple Iteration**\")\n",
    "t = (\"p\", \"w\", \"skills\")\n",
    "for i in t:\n",
    "    print(i)\n",
    " \n",
    "# Iterating over a String\n",
    "print(\"\\n**String Iteration**\")\n",
    "s = \"pwskills\"\n",
    "for i in s:\n",
    "    print(i)\n",
    " \n",
    "# Iterating over dictionary\n",
    "print(\"\\n**Dictionary Iteration**\")\n",
    "d = dict()\n",
    "d['p'] = 1\n",
    "d['w'] = 2\n",
    "d['skills'] = 3\n",
    "for i in d:\n",
    "    print(\"%s  %d\" % (i, d[i]))\n",
    " \n",
    "# Iterating over a set\n",
    "print(\"\\n**Set Iteration**\")\n",
    "set1 = {\"p\", \"w\", \"skills\"}\n",
    "for i in set1:\n",
    "    print(i),"
   ]
  },
  {
   "attachments": {},
   "cell_type": "markdown",
   "metadata": {},
   "source": [
    "<h5 style='color:green;font-weight:bold'>  Q2.  Write a python program to print the sum and product of the first 10 natural numbers using for and while loop.<h5>"
   ]
  },
  {
   "cell_type": "code",
   "execution_count": 23,
   "metadata": {},
   "outputs": [
    {
     "name": "stdout",
     "output_type": "stream",
     "text": [
      "9\n",
      "8\n",
      "7\n",
      "6\n",
      "5\n",
      "4\n",
      "3\n",
      "2\n",
      "1\n",
      "0\n",
      "The sum is 55\n"
     ]
    }
   ],
   "source": [
    "# Sum of natural numbers up to num\n",
    "\n",
    "num = 10\n",
    "\n",
    "sum = 0\n",
    "# use while loop to iterate until zero\n",
    "while(num > 0):\n",
    "    sum += num\n",
    "    num -= 1\n",
    "    print(num,end=\"\\n\")\n",
    "print(\"The sum is\", sum)"
   ]
  },
  {
   "cell_type": "code",
   "execution_count": 31,
   "metadata": {},
   "outputs": [
    {
     "name": "stdout",
     "output_type": "stream",
     "text": [
      "The sum is 55\n"
     ]
    }
   ],
   "source": [
    "num = 10\n",
    "sum = 0\n",
    "\n",
    "for n in range(1,num +1):\n",
    "    sum += n\n",
    "print(\"The sum is\", sum)"
   ]
  },
  {
   "attachments": {},
   "cell_type": "markdown",
   "metadata": {},
   "source": [
    "<h5 style='color:green;font-weight:bold'>  Q3. Create a python program to compute the electricity bill for a household.\n",
    "The per-unit charges in rupees are as follows: For the first 100 units, the user will be charged Rs. 4.5 per \n",
    "unit, for the next 100 units, the user will be charged Rs. 6 per unit, and for the next 100 units, the user will \n",
    "be charged Rs. 10 per unit, After 300 units and above the user will be charged Rs. 20 per unit.  \n",
    "You are required to take the units of electricity consumed in a month from the user as input.  \n",
    "Your program must pass this test case: when the unit of electricity consumed by the user in a month is \n",
    "310, the total electricity bill should be 2h0.</h5>"
   ]
  },
  {
   "cell_type": "code",
   "execution_count": 42,
   "metadata": {},
   "outputs": [
    {
     "name": "stdout",
     "output_type": "stream",
     "text": [
      "0-100\n",
      "Total electricity bill:- ₹45.0\n"
     ]
    }
   ],
   "source": [
    "bill_amount  = 10\n",
    "unit_charges = 4.5\n",
    "sum = 0\n",
    "\n",
    "if bill_amount < 100 or  bill_amount == 100:\n",
    "   print(\"0-100\")\n",
    "   sum = bill_amount  * 4.5\n",
    "\n",
    "elif bill_amount <= 200 or  bill_amount > 100:\n",
    "   print(\"100-200\")\n",
    "   sum = 100 * 4.5 + (bill_amount - 100) * 6\n",
    "\n",
    "elif bill_amount <= 300 or  bill_amount > 200:\n",
    "   print(\"200-300\")\n",
    "   sum = 100 * 4.5 + 100 * 6 +  (bill_amount - 200) * 10\n",
    "\n",
    "elif bill_amount > 300:\n",
    "   print(\"300\")\n",
    "   sum = 100 * 4.5 + 100 * 6  + 100 * 10 + (bill_amount - 300) * 20\n",
    "\n",
    "print(f\"Total electricity bill:- ₹{sum}\")"
   ]
  },
  {
   "attachments": {},
   "cell_type": "markdown",
   "metadata": {},
   "source": [
    "<h5 style='color:green;font-weight:bold'>  Q5.  Write a program to filter count vowels in the below-given string. \n",
    "     string = \"I want to become a data scientist\"</h5>"
   ]
  },
  {
   "attachments": {},
   "cell_type": "markdown",
   "metadata": {},
   "source": []
  },
  {
   "cell_type": "code",
   "execution_count": 15,
   "metadata": {},
   "outputs": [
    {
     "name": "stdout",
     "output_type": "stream",
     "text": [
      "Number of vowels in the given string is:  12\n"
     ]
    }
   ],
   "source": [
    "string = \"I want to become a data scientist\"\n",
    "vowels = [\"a\", \"e\", \"i\", \"o\", \"u\"]\n",
    "count = 0\n",
    "\n",
    "# using for-each loop, character is reference to a letter in the string\n",
    "for character in string:\n",
    "    if character.lower() in vowels:\n",
    "        count += 1\n",
    "print(\"Number of vowels in the given string is: \", count)"
   ]
  },
  {
   "cell_type": "code",
   "execution_count": 18,
   "metadata": {},
   "outputs": [],
   "source": [
    "# list comprehension\n",
    "#count = len([char.lower() for char in string if char in vowels])\n",
    "#print(\"Number of vowels: \", count)"
   ]
  },
  {
   "attachments": {},
   "cell_type": "markdown",
   "metadata": {},
   "source": [
    "<h5 style='color:green;font-weight:bold'>  Q4. Create a list of numbers from 1 to 100. Use for loop and while loop to calculate the cube of each \n",
    "number and if the cube of that number is divisible by 4 or 5 then append that number in a list and print \n",
    "that list.</h5>"
   ]
  },
  {
   "cell_type": "code",
   "execution_count": 13,
   "metadata": {},
   "outputs": [
    {
     "name": "stdout",
     "output_type": "stream",
     "text": [
      "show list:- \n",
      " [8, 64, 125, 216, 512, 1000, 1728, 2744, 3375, 4096, 5832, 8000, 10648, 13824, 15625, 17576, 21952, 27000, 32768, 39304, 42875, 46656, 54872, 64000, 74088, 85184, 91125, 97336, 110592, 125000, 140608, 157464, 166375, 175616, 195112, 216000, 238328, 262144, 274625, 287496, 314432, 343000, 373248, 405224, 421875, 438976, 474552, 512000, 551368, 592704, 614125, 636056, 681472, 729000, 778688, 830584, 857375, 884736, 941192, 1000000]\n"
     ]
    }
   ],
   "source": [
    "list = []\n",
    "for num in  range(1,101):\n",
    "    cube = num ** 3\n",
    "    if cube %  4 == 0 or cube %  5 == 0 :\n",
    "        list.append(cube)\n",
    "print(f\"show list:- \\n {list}\")"
   ]
  },
  {
   "attachments": {},
   "cell_type": "markdown",
   "metadata": {},
   "source": []
  }
 ],
 "metadata": {
  "kernelspec": {
   "display_name": "Python 3",
   "language": "python",
   "name": "python3"
  },
  "language_info": {
   "codemirror_mode": {
    "name": "ipython",
    "version": 3
   },
   "file_extension": ".py",
   "mimetype": "text/x-python",
   "name": "python",
   "nbconvert_exporter": "python",
   "pygments_lexer": "ipython3",
   "version": "3.10.7"
  },
  "orig_nbformat": 4
 },
 "nbformat": 4,
 "nbformat_minor": 2
}
