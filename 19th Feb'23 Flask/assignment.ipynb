{
 "cells": [
  {
   "attachments": {},
   "cell_type": "markdown",
   "metadata": {},
   "source": [
    "Q1. What is Flask Framework? What are the advantages of Flask Framework?"
   ]
  },
  {
   "attachments": {},
   "cell_type": "markdown",
   "metadata": {},
   "source": [
    "Flask is a micro web framework for Python that allows developers to build web applications quickly and with simplicity. It is known for its minimalistic design and flexibility, providing a solid foundation for creating web applications of various scales and complexities. Here are the key aspects and advantages of the Flask framework:\n",
    "\n",
    "1. Lightweight and Simple: Flask is designed to be lightweight and follows a minimalist philosophy. It has a small and easily understandable codebase, making it beginner-friendly and allowing developers to get started quickly. Flask focuses on core functionality while providing extension points for adding additional features as needed.\n",
    "\n",
    "2. Flexibility: Flask provides a high degree of flexibility, allowing developers to choose and integrate the tools and libraries that best suit their needs. It does not enforce any particular project structure, template engine, or database system, giving developers the freedom to make architectural decisions based on their preferences and project requirements.\n",
    "\n",
    "3. Routing and View Handling: Flask offers a powerful routing system that maps URLs to functions or view handlers. This makes it easy to define different routes and associate them with specific actions or responses. The routing system allows for parameterized URLs, HTTP methods handling, and URL building, providing a clean and intuitive way to define the application's behavior.\n",
    "\n",
    "4. Template Engine Integration: Flask integrates the Jinja2 template engine, which offers a powerful and flexible way to generate dynamic HTML or other types of content. Jinja2 allows for template inheritance, variable substitution, conditionals, loops, and more, enabling efficient and maintainable HTML generation.\n",
    "\n",
    "5. Extension Ecosystem: Flask has a rich ecosystem of extensions that can be easily integrated into applications. These extensions provide additional functionality for tasks such as database integration, form handling, authentication, caching, and more. The modular nature of Flask and its extension ecosystem allows developers to add features selectively, keeping the core application lightweight and efficient.\n",
    "\n",
    "6. Built-in Development Server: Flask comes with a built-in development server, making it easy to run and test applications during the development phase. The development server supports automatic code reloading, making it convenient for iterative development and quick feedback.\n",
    "\n",
    "7. Large Community and Active Development: Flask has a large and active community of developers, which means there are numerous resources, tutorials, and plugins available. The Flask community actively contributes to the framework's development, ensuring that it stays up-to-date with the latest web development practices and security standards.\n",
    "\n",
    "8. Well-Documented: Flask has comprehensive and well-structured documentation, which serves as an excellent resource for learning and reference. The documentation covers all aspects of Flask, including the core framework, extensions, and best practices for building web applications.\n"
   ]
  },
  {
   "attachments": {},
   "cell_type": "markdown",
   "metadata": {},
   "source": [
    "Q2. Create a simple Flask application to display ‘Hello World!!’. Attach the screenshot of the output in \n",
    "Jupyter Notebook."
   ]
  },
  {
   "cell_type": "code",
   "execution_count": null,
   "metadata": {
    "vscode": {
     "languageId": "html"
    }
   },
   "outputs": [],
   "source": [
    "from flask import Flask\n",
    "\n",
    "app = Flask(__name__)\n",
    "\n",
    "@app.route('/')\n",
    "def hello():\n",
    "    return 'Hello World!!'\n",
    "\n",
    "if __name__ == '__main__':\n",
    "    app.run(debug=True)\n"
   ]
  },
  {
   "attachments": {},
   "cell_type": "markdown",
   "metadata": {},
   "source": [
    "Q3. What is App routing in Flask? Why do we use app routes?"
   ]
  },
  {
   "attachments": {},
   "cell_type": "markdown",
   "metadata": {},
   "source": [
    "In Flask, app routing refers to the process of mapping URL patterns to specific functions or view handlers in your application. It allows you to define the behavior of your application based on the requested URLs.\n",
    "\n",
    "The `app.route()` decorator in Flask is used to define routes and associate them with functions that will handle the request and produce the response. It provides a convenient way to define the behavior of different URLs within your Flask application.\n",
    "\n",
    "Here are the reasons why app routes are used in Flask:\n",
    "\n",
    "1. URL Handling: App routes allow you to define how your Flask application will respond to different URLs. By using the `app.route()` decorator, you can associate specific URL patterns with functions that generate the appropriate response. For example, you can define routes for the home page, user profiles, blog posts, API endpoints, and more.\n",
    "\n",
    "2. Request Handling: App routes determine how your application handles incoming requests. When a client sends a request to a specific URL, Flask uses the defined app routes to determine which function should handle that request. Each route can have a different function associated with it, allowing you to execute specific code based on the requested URL.\n",
    "\n",
    "3. View Handlers: App routes provide a way to organize and encapsulate your application's logic. Each route can be associated with a view handler function that contains the code to handle the request, perform any necessary processing, and generate the response. This modular approach helps in keeping your codebase organized, maintainable, and reusable.\n",
    "\n",
    "4. Route Parameters: Flask app routes support parameterized URLs, allowing you to capture dynamic values from the URL. For example, you can define a route like `/users/<username>` to capture the username as a parameter. These parameters can be accessed within the associated view handler function, allowing you to use the captured values in your application's logic.\n",
    "\n",
    "5. HTTP Methods: App routes can also specify the supported HTTP methods for each route. By default, routes handle GET requests, but you can explicitly specify other HTTP methods such as POST, PUT, DELETE, etc. This enables different actions to be performed based on the HTTP method used by the client.\n",
    "\n"
   ]
  },
  {
   "attachments": {},
   "cell_type": "markdown",
   "metadata": {},
   "source": [
    "Q4.  Create a “/welcome” route to display the welcome message “Welcome to ABC Corporation” and a “/” \n",
    "route to show the following details:\n",
    "\n",
    "    Company Name: ABC Corporation\n",
    "\n",
    "    Location: India\n",
    "\n",
    "    Contact Detail: 999-999-9999 "
   ]
  },
  {
   "attachments": {},
   "cell_type": "raw",
   "metadata": {},
   "source": [
    "from flask import Flask\n",
    "\n",
    "app = Flask(__name__)\n",
    "\n",
    "@app.route('/welcome')\n",
    "def welcome():\n",
    "    return 'Welcome to ABC Corporation'\n",
    "\n",
    "@app.route('/')\n",
    "def company_details():\n",
    "    return '''\n",
    "    Company Name: ABC Corporation\n",
    "    Location: India\n",
    "    Contact Detail: 999-999-9999\n",
    "    '''\n",
    "\n",
    "if __name__ == '__main__':\n",
    "    app.run(debug=True)\n"
   ]
  },
  {
   "attachments": {},
   "cell_type": "markdown",
   "metadata": {},
   "source": []
  },
  {
   "cell_type": "markdown",
   "metadata": {},
   "source": [
    "<img src=\"alexnetdatascience30072023.png\" />"
   ]
  },
  {
   "attachments": {},
   "cell_type": "markdown",
   "metadata": {},
   "source": [
    "Q5. What function is used in Flask for URL Building? Write a Python code to demonstrate the working of the \n",
    "url_for() function"
   ]
  },
  {
   "attachments": {},
   "cell_type": "markdown",
   "metadata": {},
   "source": [
    "In Flask, the url_for() function is used for URL building. It generates a URL for a specific route based on its name and any route parameters that are provided.\n",
    "\n",
    "The url_for() function takes the route name as the first argument and optional keyword arguments for any route parameters. It returns the URL for the specified route, taking into account any URL routing patterns defined in the application.\n",
    "\n",
    "Here's an example code that demonstrates the working of the url_for() function in Flask:"
   ]
  },
  {
   "attachments": {},
   "cell_type": "raw",
   "metadata": {},
   "source": [
    "from flask import Flask, url_for\n",
    "\n",
    "app = Flask(__name__)\n",
    "\n",
    "@app.route('/')\n",
    "def home():\n",
    "    return 'Home Page'\n",
    "\n",
    "@app.route('/user/<username>')\n",
    "def user_profile(username):\n",
    "    return f'User Profile: {username}'\n",
    "\n",
    "if __name__ == '__main__':\n",
    "    with app.test_request_context():\n",
    "        # Using url_for() to generate URLs\n",
    "        home_url = url_for('home')\n",
    "        profile_url = url_for('user_profile', username='john')\n",
    "\n",
    "        print(f'Home URL: {home_url}')\n",
    "        print(f'User Profile URL: {profile_url}')\n"
   ]
  },
  {
   "cell_type": "raw",
   "metadata": {},
   "source": []
  }
 ],
 "metadata": {
  "kernelspec": {
   "display_name": "Python 3",
   "language": "python",
   "name": "python3"
  },
  "language_info": {
   "codemirror_mode": {
    "name": "ipython",
    "version": 3
   },
   "file_extension": ".py",
   "mimetype": "text/x-python",
   "name": "python",
   "nbconvert_exporter": "python",
   "pygments_lexer": "ipython3",
   "version": "3.10.7"
  },
  "orig_nbformat": 4
 },
 "nbformat": 4,
 "nbformat_minor": 2
}
