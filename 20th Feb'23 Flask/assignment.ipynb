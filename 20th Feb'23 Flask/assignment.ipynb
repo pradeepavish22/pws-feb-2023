{
 "cells": [
  {
   "attachments": {},
   "cell_type": "markdown",
   "metadata": {},
   "source": [
    "Q1. Explain GET and POST methods"
   ]
  },
  {
   "attachments": {},
   "cell_type": "markdown",
   "metadata": {},
   "source": [
    "GET and POST are two commonly used methods in HTTP (Hypertext Transfer Protocol) for sending data between a client (such as a web browser) and a server. They are used to perform different types of requests and have distinct characteristics:\n",
    "\n",
    "1. GET method:\n",
    "   - The GET method is used to retrieve data from a server. It requests a representation of a specific resource (e.g., a web page) from the server.\n",
    "   - When a client sends a GET request, the data is appended to the URL in the form of query parameters. This makes the data visible in the URL itself.\n",
    "   - GET requests are typically used for retrieving information and should not be used for actions that have side effects (e.g., modifying data on the server).\n",
    "   - GET requests are generally considered safe, idempotent (repeated requests produce the same result), and can be cached by browsers and intermediaries.\n",
    "   - Example: `GET /api/users?id=123`\n",
    "\n",
    "2. POST method:\n",
    "   - The POST method is used to submit data to the server for processing. It is often used to send data from a form or to create a new resource on the server.\n",
    "   - With POST requests, the data is sent in the body of the request, rather than being appended to the URL. This makes the data not directly visible in the URL.\n",
    "   - POST requests can have side effects on the server, such as creating, updating, or deleting data.\n",
    "   - POST requests are not idempotent, meaning that sending the same request multiple times may result in different outcomes on the server.\n",
    "   - POST requests are not typically cached by browsers or intermediaries.\n",
    "   - Example: \n",
    "   \n",
    "   \n",
    "   POST /api/users\n",
    "   Content-Type: application/json\n",
    "\n",
    "   {\n",
    "     \"name\": \"pradeep\",\n",
    "     \"email\": \"pradeep@gmail.com\"\n",
    "   }\n"
   ]
  },
  {
   "attachments": {},
   "cell_type": "markdown",
   "metadata": {},
   "source": []
  },
  {
   "attachments": {},
   "cell_type": "markdown",
   "metadata": {},
   "source": [
    "Q2. Why is request used in Flask?"
   ]
  },
  {
   "attachments": {},
   "cell_type": "markdown",
   "metadata": {},
   "source": [
    "In Flask, the `request` object is used to access and handle incoming HTTP requests from clients. It provides a way to retrieve data sent by the client, such as form data, URL parameters, headers, cookies, and more. The `request` object allows Flask applications to interact with the data provided by the client and make decisions or perform actions based on that data.\n",
    "\n",
    "Here are some key reasons why the `request` object is used in Flask:\n",
    "\n",
    "1. Data Retrieval: The `request` object provides methods and attributes to retrieve data sent by the client. For example, you can access form data using `request.form`, URL parameters using `request.args`, request headers using `request.headers`, and so on. This allows your Flask application to extract and use the relevant data from the client's request.\n",
    "\n",
    "2. Routing and Dispatching: Flask's routing system uses the `request` object to determine which function or view should be executed based on the requested URL. By inspecting the `request` object, Flask can match the URL patterns defined in the application and dispatch the request to the appropriate view function.\n",
    "\n",
    "3. Client Information: The `request` object provides access to information about the client making the request. For example, you can retrieve the client's IP address using `request.remote_addr`, check the user agent string using `request.user_agent`, or get the requested URL using `request.url`. This information can be useful for logging, authentication, or customizing the behavior of your Flask application.\n",
    "\n",
    "4. Cookies: The `request` object allows you to read and write cookies sent by the client. You can access cookies using `request.cookies` and set cookies using `response.set_cookie()`. This enables session management, user tracking, and other cookie-based functionality in your Flask application.\n",
    "\n",
    "5. File Uploads: The `request` object provides a convenient way to handle file uploads from clients. You can access uploaded files using `request.files`, allowing you to save, process, or validate the uploaded files as needed.\n",
    "\n"
   ]
  },
  {
   "attachments": {},
   "cell_type": "markdown",
   "metadata": {},
   "source": [
    "Q3. Why is redirect() used in Flask?"
   ]
  },
  {
   "attachments": {},
   "cell_type": "markdown",
   "metadata": {},
   "source": [
    "In Flask, the `redirect()` function is used to perform a redirect from one route to another. It is a convenient way to redirect the user's browser to a different URL or route within your Flask application. \n",
    "\n",
    "Here are some reasons why `redirect()` is commonly used in Flask:\n",
    "\n",
    "1. URL Redirection: When a user accesses a specific route in your Flask application, you may want to redirect them to another route or URL. This can be useful for implementing page redirection, post-submission redirects, or directing users to a different part of your application. The `redirect()` function simplifies this process by handling the HTTP redirect status codes and the necessary headers behind the scenes.\n",
    "\n",
    "2. Handling Form Submissions: After a user submits a form, it is a good practice to redirect them to another route to display the result or prevent duplicate form submissions. For example, after a successful form submission, you might want to redirect the user to a confirmation page. Using `redirect()` allows you to achieve this redirection easily.\n",
    "\n",
    "3. Authentication and Authorization: When implementing authentication and authorization in your Flask application, you might want to redirect users to the login page or a specific page after successful authentication. Similarly, you might redirect users to an error page if they try to access restricted resources without proper authorization. `redirect()` simplifies the process of handling these redirections based on authentication and authorization logic.\n",
    "\n",
    "4. Maintaining Clean URLs: Redirects can be used to ensure that your application's URLs are consistent and clean. For example, if your application supports multiple URL formats or aliases for the same resource, you can use `redirect()` to redirect users from one URL to the preferred or canonical URL.\n",
    "\n"
   ]
  },
  {
   "attachments": {},
   "cell_type": "markdown",
   "metadata": {},
   "source": [
    "Q4. What are templates in Flask? Why is the render_template() function used?"
   ]
  },
  {
   "attachments": {},
   "cell_type": "markdown",
   "metadata": {},
   "source": [
    "In Flask, templates are used to generate dynamic HTML pages or other types of content that are sent to the client's browser. Templates provide a way to separate the presentation logic from the application logic, allowing for cleaner code and easier maintenance. Flask uses the Jinja2 template engine by default.\n",
    "\n",
    "The `render_template()` function in Flask is used to render a template by providing the template name and any necessary data. It combines the template with the provided data and generates the final HTML or content to be sent as a response to the client's request.\n",
    "\n",
    "Here are the key aspects of templates in Flask and why the `render_template()` function is used:\n",
    "\n",
    "1. Separation of Concerns: Templates help separate the presentation layer from the application logic. The template contains the structure and layout of the HTML page, along with placeholders (variables or template tags) for dynamic content. By separating the two, you can focus on the logic in your Python code and easily modify or update the presentation without affecting the underlying functionality.\n",
    "\n",
    "2. Dynamic Content: Templates allow you to generate dynamic content by embedding variables, conditionals, loops, and other control structures within the template. With `render_template()`, you can pass data from your Python code to the template, which can be used to customize the generated HTML. This way, you can dynamically display information, iterate over collections, and conditionally show or hide elements based on the provided data.\n",
    "\n",
    "3. Code Reusability: Templates promote code reusability as you can define reusable components or blocks within templates. These components can be included or extended across multiple templates, reducing redundancy and improving maintainability. This enables you to create a consistent look and feel across your application and easily update common elements.\n",
    "\n",
    "4. Template Inheritance: Flask templates support inheritance, allowing you to define a base template with common structure and layout, and then extend or override specific sections in child templates. This inheritance mechanism simplifies code management and promotes a modular approach to building web pages."
   ]
  },
  {
   "attachments": {},
   "cell_type": "markdown",
   "metadata": {},
   "source": [
    "Q5. Create a simple API. Use Postman to test it. Attach the screenshot of the output in the Jupyter Notebook."
   ]
  },
  {
   "attachments": {},
   "cell_type": "markdown",
   "metadata": {},
   "source": [
    "        from flask import Flask, jsonify\n",
    "\n",
    "        app = Flask(__name__)\n",
    "\n",
    "        @app.route('/api/hello', methods=['GET'])\n",
    "        def hello():\n",
    "            return jsonify({'message': 'Hello, World!'})\n",
    "\n",
    "        if __name__ == '__main__':\n",
    "            app.run(debug=True)\n"
   ]
  },
  {
   "cell_type": "code",
   "execution_count": 1,
   "metadata": {
    "vscode": {
     "languageId": "html"
    }
   },
   "outputs": [
    {
     "ename": "SyntaxError",
     "evalue": "invalid syntax (3761460367.py, line 1)",
     "output_type": "error",
     "traceback": [
      "\u001b[1;36m  Cell \u001b[1;32mIn [1], line 1\u001b[1;36m\u001b[0m\n\u001b[1;33m    <img src=\"30072023pwsalexnetdata.png\" />\u001b[0m\n\u001b[1;37m    ^\u001b[0m\n\u001b[1;31mSyntaxError\u001b[0m\u001b[1;31m:\u001b[0m invalid syntax\n"
     ]
    }
   ],
   "source": [
    "<img src=\"30072023pwsalexnetdata.png\" />\n"
   ]
  },
  {
   "cell_type": "code",
   "execution_count": null,
   "metadata": {
    "vscode": {
     "languageId": "html"
    }
   },
   "outputs": [],
   "source": []
  }
 ],
 "metadata": {
  "kernelspec": {
   "display_name": "Python 3",
   "language": "python",
   "name": "python3"
  },
  "language_info": {
   "codemirror_mode": {
    "name": "ipython",
    "version": 3
   },
   "file_extension": ".py",
   "mimetype": "text/x-python",
   "name": "python",
   "nbconvert_exporter": "python",
   "pygments_lexer": "ipython3",
   "version": "3.10.7"
  },
  "orig_nbformat": 4
 },
 "nbformat": 4,
 "nbformat_minor": 2
}
