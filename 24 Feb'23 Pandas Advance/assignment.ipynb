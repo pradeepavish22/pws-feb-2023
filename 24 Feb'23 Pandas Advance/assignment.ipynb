{
 "cells": [
  {
   "cell_type": "markdown",
   "metadata": {},
   "source": [
    "<h2 style='color:blue;font-weight:bold;text-align:center;'>**PWSkills Assignment **<h2>"
   ]
  },
  {
   "cell_type": "markdown",
   "metadata": {},
   "source": [
    "<p style='color:green;font-weight:bold'> Q1. List any five functions of the pandas library with execution</p>"
   ]
  },
  {
   "cell_type": "markdown",
   "metadata": {},
   "source": [
    "1.**read_csv()**: This function is used to read data from a CSV file and create a DataFrame.\n"
   ]
  },
  {
   "cell_type": "code",
   "execution_count": 5,
   "metadata": {},
   "outputs": [
    {
     "name": "stdout",
     "output_type": "stream",
     "text": [
      "   Year Industry_aggregation_NZSIOC Industry_code_NZSIOC Industry_name_NZSIOC  \\\n",
      "0  2021                     Level 1                99999       All industries   \n",
      "1  2021                     Level 1                99999       All industries   \n",
      "2  2021                     Level 1                99999       All industries   \n",
      "3  2021                     Level 1                99999       All industries   \n",
      "4  2021                     Level 1                99999       All industries   \n",
      "\n",
      "                Units Variable_code  \\\n",
      "0  Dollars (millions)           H01   \n",
      "1  Dollars (millions)           H04   \n",
      "2  Dollars (millions)           H05   \n",
      "3  Dollars (millions)           H07   \n",
      "4  Dollars (millions)           H08   \n",
      "\n",
      "                                     Variable_name      Variable_category  \\\n",
      "0                                     Total income  Financial performance   \n",
      "1  Sales, government funding, grants and subsidies  Financial performance   \n",
      "2                Interest, dividends and donations  Financial performance   \n",
      "3                             Non-operating income  Financial performance   \n",
      "4                                Total expenditure  Financial performance   \n",
      "\n",
      "     Value                             Industry_code_ANZSIC06  \n",
      "0  757,504  ANZSIC06 divisions A-S (excluding classes K633...  \n",
      "1  674,890  ANZSIC06 divisions A-S (excluding classes K633...  \n",
      "2   49,593  ANZSIC06 divisions A-S (excluding classes K633...  \n",
      "3   33,020  ANZSIC06 divisions A-S (excluding classes K633...  \n",
      "4  654,404  ANZSIC06 divisions A-S (excluding classes K633...  \n"
     ]
    }
   ],
   "source": [
    "import pandas as pd\n",
    "import os\n",
    "# Reading data from a CSV file and creating a DataFrame\n",
    "df = pd.read_csv(os.path.join('annual-enterprise-survey-2021-financial-year-provisional-csv.csv'))\n",
    "print(df.head())\n",
    "\n"
   ]
  },
  {
   "cell_type": "markdown",
   "metadata": {},
   "source": [
    "2.`head()`: This function is used to display the first few rows of a DataFrame."
   ]
  },
  {
   "cell_type": "code",
   "execution_count": 6,
   "metadata": {},
   "outputs": [
    {
     "name": "stdout",
     "output_type": "stream",
     "text": [
      "      Name  Age           City\n",
      "0    Alice   25       New York\n",
      "1      Bob   30  San Francisco\n",
      "2  Charlie   22    Los Angeles\n",
      "3    David   28        Chicago\n"
     ]
    }
   ],
   "source": [
    "import pandas as pd\n",
    "\n",
    "# Creating a DataFrame\n",
    "data = {\n",
    "    'Name': ['Alice', 'Bob', 'Charlie', 'David'],\n",
    "    'Age': [25, 30, 22, 28],\n",
    "    'City': ['New York', 'San Francisco', 'Los Angeles', 'Chicago']\n",
    "}\n",
    "\n",
    "df = pd.DataFrame(data)\n",
    "\n",
    "# Displaying the first few rows of the DataFrame\n",
    "print(df.head())\n"
   ]
  },
  {
   "cell_type": "markdown",
   "metadata": {},
   "source": [
    "3.`groupby()`: This function is used for grouping data based on one or more columns and performing aggregate operations."
   ]
  },
  {
   "cell_type": "code",
   "execution_count": 7,
   "metadata": {},
   "outputs": [
    {
     "name": "stdout",
     "output_type": "stream",
     "text": [
      "Name\n",
      "Alice      24.0\n",
      "Bob        30.0\n",
      "Charlie    22.0\n",
      "David      28.0\n",
      "Name: Age, dtype: float64\n"
     ]
    }
   ],
   "source": [
    "import pandas as pd\n",
    "\n",
    "# Creating a DataFrame\n",
    "data = {\n",
    "    'Name': ['Alice', 'Bob', 'Charlie', 'David', 'Alice'],\n",
    "    'Age': [25, 30, 22, 28, 23],\n",
    "    'City': ['New York', 'San Francisco', 'Los Angeles', 'Chicago', 'New York']\n",
    "}\n",
    "\n",
    "df = pd.DataFrame(data)\n",
    "\n",
    "# Grouping data by 'Name' and calculating the average age for each name\n",
    "grouped_data = df.groupby('Name')['Age'].mean()\n",
    "print(grouped_data)\n"
   ]
  },
  {
   "cell_type": "markdown",
   "metadata": {},
   "source": [
    "4.`fillna()`: This function is used to fill missing or NaN (Not a Number) values in a DataFrame."
   ]
  },
  {
   "cell_type": "code",
   "execution_count": 8,
   "metadata": {},
   "outputs": [
    {
     "name": "stdout",
     "output_type": "stream",
     "text": [
      "     A    B   C\n",
      "0  1.0  5.0   9\n",
      "1  2.0  0.0  10\n",
      "2  0.0  7.0  11\n",
      "3  4.0  8.0  12\n"
     ]
    }
   ],
   "source": [
    "import pandas as pd\n",
    "\n",
    "# Creating a DataFrame with missing values\n",
    "data = {\n",
    "    'A': [1, 2, None, 4],\n",
    "    'B': [5, None, 7, 8],\n",
    "    'C': [9, 10, 11, 12]\n",
    "}\n",
    "\n",
    "df = pd.DataFrame(data)\n",
    "\n",
    "# Filling missing values with 0\n",
    "df_filled = df.fillna(0)\n",
    "print(df_filled)\n"
   ]
  },
  {
   "cell_type": "markdown",
   "metadata": {},
   "source": [
    "5.`merge()`: This function is used to merge two DataFrames based on a common column."
   ]
  },
  {
   "cell_type": "code",
   "execution_count": 9,
   "metadata": {},
   "outputs": [
    {
     "name": "stdout",
     "output_type": "stream",
     "text": [
      "   ID     Name  Age\n",
      "0   2      Bob   25\n",
      "1   3  Charlie   30\n"
     ]
    }
   ],
   "source": [
    "import pandas as pd\n",
    "\n",
    "# Creating two DataFrames\n",
    "df1 = pd.DataFrame({'ID': [1, 2, 3], 'Name': ['Alice', 'Bob', 'Charlie']})\n",
    "df2 = pd.DataFrame({'ID': [2, 3, 4], 'Age': [25, 30, 22]})\n",
    "\n",
    "# Merging the DataFrames based on 'ID' column\n",
    "merged_df = pd.merge(df1, df2, on='ID')\n",
    "print(merged_df)\n"
   ]
  },
  {
   "cell_type": "markdown",
   "metadata": {},
   "source": []
  }
 ],
 "metadata": {
  "kernelspec": {
   "display_name": "Python 3",
   "language": "python",
   "name": "python3"
  },
  "language_info": {
   "codemirror_mode": {
    "name": "ipython",
    "version": 3
   },
   "file_extension": ".py",
   "mimetype": "text/x-python",
   "name": "python",
   "nbconvert_exporter": "python",
   "pygments_lexer": "ipython3",
   "version": "3.10.7"
  },
  "orig_nbformat": 4
 },
 "nbformat": 4,
 "nbformat_minor": 2
}
