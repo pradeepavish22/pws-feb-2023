{
 "cells": [
  {
   "attachments": {},
   "cell_type": "markdown",
   "metadata": {},
   "source": [
    "Q1, Create a vehicle class with an init method having instance variables as name_of_vehicle, max_speed \n",
    "and average_of_vehicle. "
   ]
  },
  {
   "cell_type": "code",
   "execution_count": 1,
   "metadata": {},
   "outputs": [
    {
     "name": "stdout",
     "output_type": "stream",
     "text": [
      "Car\n",
      "200\n",
      "80\n",
      "Bike\n",
      "120\n",
      "40\n"
     ]
    }
   ],
   "source": [
    "class Vehicle:\n",
    "    def __init__(self, name_of_vehicle, max_speed, average_speed):\n",
    "        self.name_of_vehicle = name_of_vehicle\n",
    "        self.max_speed = max_speed\n",
    "        self.average_speed = average_speed\n",
    "\n",
    "# Creating instances of the Vehicle class\n",
    "car = Vehicle(\"Car\", 200, 80)\n",
    "bike = Vehicle(\"Bike\", 120, 40)\n",
    "\n",
    "# Accessing the instance variables\n",
    "print(car.name_of_vehicle)       # Output: Car\n",
    "print(car.max_speed)             # Output: 200\n",
    "print(car.average_speed)         # Output: 80\n",
    "\n",
    "print(bike.name_of_vehicle)      # Output: Bike\n",
    "print(bike.max_speed)            # Output: 120\n",
    "print(bike.average_speed)        # Output: 40\n"
   ]
  },
  {
   "attachments": {},
   "cell_type": "markdown",
   "metadata": {},
   "source": [
    "Q2.  Create a child class car from the vehicle class created in Que 1, which will inherit the vehicle class. \n",
    "Create a method named seating_capacity which takes capacity as an argument and returns the name of \n",
    "the vehicle and its seating capacity."
   ]
  },
  {
   "cell_type": "code",
   "execution_count": 2,
   "metadata": {},
   "outputs": [
    {
     "name": "stdout",
     "output_type": "stream",
     "text": [
      "Car\n",
      "200\n",
      "80\n",
      "Car has a seating capacity of 5 people.\n"
     ]
    }
   ],
   "source": [
    "class Car(Vehicle):\n",
    "    def seating_capacity(self, capacity):\n",
    "        return f\"{self.name_of_vehicle} has a seating capacity of {capacity} people.\"\n",
    "\n",
    "# Creating an instance of the Car class\n",
    "car = Car(\"Car\", 200, 80)\n",
    "\n",
    "# Accessing the inherited instance variables\n",
    "print(car.name_of_vehicle)       # Output: Car\n",
    "print(car.max_speed)             # Output: 200\n",
    "print(car.average_speed)         # Output: 80\n",
    "\n",
    "# Using the method from the Car class\n",
    "print(car.seating_capacity(5))   # Output: Car has a seating capacity of 5 people.\n"
   ]
  },
  {
   "attachments": {},
   "cell_type": "markdown",
   "metadata": {},
   "source": [
    "Q3. What is multiple inheritance? Write a python code to demonstrate multiple inheritance."
   ]
  },
  {
   "attachments": {},
   "cell_type": "markdown",
   "metadata": {},
   "source": [
    "Multiple inheritance is a feature in object-oriented programming where a class can inherit attributes and methods from multiple parent classes. This allows a child class to inherit and combine the features and behaviors of multiple classes."
   ]
  },
  {
   "cell_type": "code",
   "execution_count": 3,
   "metadata": {},
   "outputs": [
    {
     "name": "stdout",
     "output_type": "stream",
     "text": [
      "Vehicle: Sedan\n"
     ]
    }
   ],
   "source": [
    "class Vehicle:\n",
    "    def __init__(self, name):\n",
    "        self.name = name\n",
    "\n",
    "    def display_info(self):\n",
    "        print(\"Vehicle:\", self.name)\n",
    "\n",
    "\n",
    "class Engine:\n",
    "    def __init__(self, engine_type):\n",
    "        self.engine_type = engine_type\n",
    "\n",
    "    def display_info(self):\n",
    "        print(\"Engine type:\", self.engine_type)\n",
    "\n",
    "\n",
    "class Car(Vehicle, Engine):\n",
    "    def __init__(self, name, engine_type):\n",
    "        Vehicle.__init__(self, name)\n",
    "        Engine.__init__(self, engine_type)\n",
    "\n",
    "\n",
    "# Creating an instance of the Car class\n",
    "car = Car(\"Sedan\", \"Gasoline\")\n",
    "\n",
    "# Accessing the inherited methods from Vehicle and Engine classes\n",
    "car.display_info()  # Output: Vehicle: Sedan\n",
    "                    #         Engine type: Gasoline\n"
   ]
  },
  {
   "attachments": {},
   "cell_type": "markdown",
   "metadata": {},
   "source": [
    "Q4. What are getter and setter in python? Create a class and create a getter and a setter method in this \n",
    "class."
   ]
  },
  {
   "attachments": {},
   "cell_type": "markdown",
   "metadata": {},
   "source": [
    "In Python, getters and setters are methods used to access and modify the values of class attributes or properties. They provide an interface for accessing and modifying the internal state of an object while encapsulating the implementation details.\n",
    "\n",
    "Getters, also known as accessor methods, are used to retrieve the value of an attribute. They are typically defined with the prefix \"get\" followed by the name of the attribute. Getters provide read-only access to the attribute.\n",
    "\n",
    "Setters, also known as mutator methods, are used to set or modify the value of an attribute. They are typically defined with the prefix \"set\" followed by the name of the attribute. Setters provide write access to the attribute."
   ]
  },
  {
   "cell_type": "code",
   "execution_count": 5,
   "metadata": {},
   "outputs": [
    {
     "name": "stdout",
     "output_type": "stream",
     "text": [
      "John\n",
      "Jane\n"
     ]
    }
   ],
   "source": [
    "class Person:\n",
    "    def __init__(self, name):\n",
    "        self._name = name\n",
    "\n",
    "    def get_name(self):\n",
    "        return self._name\n",
    "\n",
    "    def set_name(self, name):\n",
    "        self._name = name\n",
    "\n",
    "# Creating an instance of the Person class\n",
    "person = Person(\"John\")\n",
    "\n",
    "# Using the getter to retrieve the value of the attribute\n",
    "print(person.get_name())  # Output: John\n",
    "\n",
    "# Using the setter to modify the value of the attribute\n",
    "person.set_name(\"Jane\")\n",
    "\n",
    "# Using the getter again to retrieve the updated value\n",
    "print(person.get_name())  # Output: Jane\n"
   ]
  },
  {
   "attachments": {},
   "cell_type": "markdown",
   "metadata": {},
   "source": [
    "Q5.What is method overriding in python? Write a python code to demonstrate method overriding."
   ]
  },
  {
   "attachments": {},
   "cell_type": "markdown",
   "metadata": {},
   "source": [
    "Method overriding is a concept in object-oriented programming where a subclass provides its own implementation of a method that is already defined in its superclass. This allows the subclass to override the behavior of the method inherited from the superclass and provide its own customized implementation."
   ]
  },
  {
   "cell_type": "code",
   "execution_count": 6,
   "metadata": {},
   "outputs": [
    {
     "name": "stdout",
     "output_type": "stream",
     "text": [
      "Area of the rectangle: 15\n"
     ]
    }
   ],
   "source": [
    "class Shape:\n",
    "    def area(self):\n",
    "        print(\"Calculating area of the shape.\")\n",
    "\n",
    "class Rectangle(Shape):\n",
    "    def area(self):\n",
    "        length = 5\n",
    "        breadth = 3\n",
    "        result = length * breadth\n",
    "        print(\"Area of the rectangle:\", result)\n",
    "\n",
    "# Creating an instance of the Rectangle class\n",
    "rectangle = Rectangle()\n",
    "\n",
    "# Calling the overridden method\n",
    "rectangle.area()\n"
   ]
  },
  {
   "cell_type": "code",
   "execution_count": null,
   "metadata": {},
   "outputs": [],
   "source": []
  }
 ],
 "metadata": {
  "kernelspec": {
   "display_name": "Python 3",
   "language": "python",
   "name": "python3"
  },
  "language_info": {
   "codemirror_mode": {
    "name": "ipython",
    "version": 3
   },
   "file_extension": ".py",
   "mimetype": "text/x-python",
   "name": "python",
   "nbconvert_exporter": "python",
   "pygments_lexer": "ipython3",
   "version": "3.10.7"
  },
  "orig_nbformat": 4
 },
 "nbformat": 4,
 "nbformat_minor": 2
}
