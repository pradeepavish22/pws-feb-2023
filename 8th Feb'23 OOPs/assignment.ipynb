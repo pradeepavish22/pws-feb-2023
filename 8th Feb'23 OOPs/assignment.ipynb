{
 "cells": [
  {
   "attachments": {},
   "cell_type": "markdown",
   "metadata": {},
   "source": [
    "Q1. What is Abstraction in OOps? Explain with an example"
   ]
  },
  {
   "attachments": {},
   "cell_type": "markdown",
   "metadata": {},
   "source": []
  },
  {
   "attachments": {},
   "cell_type": "markdown",
   "metadata": {},
   "source": [
    "Abstraction is one of the fundamental principles of object-oriented programming (OOP) that focuses on hiding the internal implementation details of an object and exposing only the essential features or behaviors to the outside world. It allows us to create abstract representations of real-world objects or concepts, emphasizing what an object does rather than how it does it.\n",
    "\n",
    "In OOP, abstraction is achieved through abstract classes and interfaces. An abstract class is a class that cannot be instantiated and may contain both abstract and concrete methods. Abstract methods are declared without any implementation and must be overridden by the derived classes. An interface is a collection of abstract methods that define a contract for the classes implementing it.\n"
   ]
  },
  {
   "cell_type": "code",
   "execution_count": 3,
   "metadata": {},
   "outputs": [
    {
     "name": "stdout",
     "output_type": "stream",
     "text": [
      "Dog barks.\n",
      "Buddy is an animal.\n",
      "Cat meows.\n",
      "Whiskers is an animal.\n"
     ]
    }
   ],
   "source": [
    "from abc import ABC, abstractmethod\n",
    "\n",
    "class Animal(ABC):\n",
    "    def __init__(self, name):\n",
    "        self.name = name\n",
    "\n",
    "    @abstractmethod\n",
    "    def sound(self):\n",
    "        pass\n",
    "\n",
    "    def description(self):\n",
    "        print(f\"{self.name} is an animal.\")\n",
    "\n",
    "class Dog(Animal):\n",
    "    def sound(self):\n",
    "        print(\"Dog barks.\")\n",
    "\n",
    "class Cat(Animal):\n",
    "    def sound(self):\n",
    "        print(\"Cat meows.\")\n",
    "\n",
    "# Instantiate objects\n",
    "dog = Dog(\"Buddy\")\n",
    "cat = Cat(\"Whiskers\")\n",
    "\n",
    "# Call the abstract method and concrete method\n",
    "dog.sound()\n",
    "dog.description()\n",
    "\n",
    "cat.sound()\n",
    "cat.description()\n"
   ]
  },
  {
   "attachments": {},
   "cell_type": "markdown",
   "metadata": {},
   "source": [
    "Q2. Differentiate between Abstraction and Encapsulation. Explain with an example."
   ]
  },
  {
   "attachments": {},
   "cell_type": "markdown",
   "metadata": {},
   "source": [
    "Abstraction and encapsulation are two important concepts in object-oriented programming (OOP) but serve different purposes.\n",
    "\n",
    "Abstraction focuses on creating abstract representations of real-world objects or concepts, emphasizing what an object does rather than how it does it. It hides the internal implementation details and exposes only the essential features or behaviors to the outside world. Abstraction is achieved through abstract classes, interfaces, and abstract methods.\n",
    "\n",
    "Encapsulation, on the other hand, is about bundling the data (attributes) and methods (behaviors) together into a single unit called a class. It involves the concept of data hiding, where the internal state of an object is protected and accessed only through a well-defined interface. Encapsulation helps in achieving data integrity and prevents direct access to data from outside the class."
   ]
  },
  {
   "cell_type": "code",
   "execution_count": 4,
   "metadata": {},
   "outputs": [
    {
     "name": "stdout",
     "output_type": "stream",
     "text": [
      "Toyota\n",
      "Blue\n",
      "Engine started.\n",
      "0\n",
      "Car is driving.\n",
      "Car is driving.\n"
     ]
    }
   ],
   "source": [
    "class Car:\n",
    "    def __init__(self, make, model, color):\n",
    "        self.make = make\n",
    "        self.model = model\n",
    "        self.color = color\n",
    "        self.__fuel = 0  # Private attribute\n",
    "\n",
    "    def start_engine(self):\n",
    "        print(\"Engine started.\")\n",
    "\n",
    "    def fill_fuel(self, amount):\n",
    "        self.__fuel += amount\n",
    "\n",
    "    def drive(self):\n",
    "        if self.__fuel > 0:\n",
    "            print(\"Car is driving.\")\n",
    "            self.__fuel -= 1\n",
    "        else:\n",
    "            print(\"No fuel. Please fill the fuel tank.\")\n",
    "\n",
    "\n",
    "# Creating an instance of the Car class\n",
    "my_car = Car(\"Toyota\", \"Camry\", \"Blue\")\n",
    "\n",
    "# Accessing public attributes and methods\n",
    "print(my_car.make)\n",
    "print(my_car.color)\n",
    "my_car.start_engine()\n",
    "\n",
    "# Accessing private attribute (Name mangling)\n",
    "print(my_car._Car__fuel)\n",
    "\n",
    "# Trying to access private attribute directly\n",
    "# print(my_car.__fuel)  # This will result in an AttributeError\n",
    "\n",
    "# Using public method to fill fuel and drive the car\n",
    "my_car.fill_fuel(10)\n",
    "my_car.drive()\n",
    "my_car.drive()\n"
   ]
  },
  {
   "attachments": {},
   "cell_type": "markdown",
   "metadata": {},
   "source": [
    "Q3. What is abc module in python? Why is it used?"
   ]
  },
  {
   "attachments": {},
   "cell_type": "markdown",
   "metadata": {},
   "source": [
    "The `abc` module in Python stands for \"Abstract Base Classes.\" It provides a way to define abstract classes in Python. An abstract class is a class that cannot be instantiated and serves as a blueprint for derived classes.\n",
    "\n",
    "The `abc` module is used for creating abstract base classes and defining abstract methods. An abstract method is a method declaration without an implementation. It provides a way to define a contract or interface that derived classes must adhere to by implementing the abstract methods.\n",
    "\n",
    "Here are the key reasons why the `abc` module is used:\n",
    "\n",
    "1. Defining Abstract Base Classes: The `abc` module provides the `ABC` class, which is used as a metaclass for defining abstract base classes. By inheriting from `ABC`, a class becomes an abstract base class, indicating that it should not be instantiated directly.\n",
    "\n",
    "2. Declaring Abstract Methods: The `abc` module provides the `abstractmethod` decorator, which is used to declare abstract methods. Abstract methods are defined in the abstract base class without any implementation and must be overridden by the derived classes.\n",
    "\n",
    "3. Enforcing Method Implementation: By using abstract base classes, the `abc` module helps enforce the implementation of certain methods in derived classes. If a derived class does not provide an implementation for all the abstract methods defined in the abstract base class, it will raise a `TypeError` when trying to instantiate the derived class.\n",
    "\n",
    "4. Polymorphism and Interface Design: Abstract base classes provide a way to define common interfaces or contracts for a set of related classes. By inheriting from the same abstract base class, different derived classes can be treated uniformly based on the shared interface.\n"
   ]
  },
  {
   "attachments": {},
   "cell_type": "markdown",
   "metadata": {},
   "source": []
  },
  {
   "cell_type": "code",
   "execution_count": 5,
   "metadata": {},
   "outputs": [
    {
     "name": "stdout",
     "output_type": "stream",
     "text": [
      "50\n",
      "153.86\n"
     ]
    }
   ],
   "source": [
    "from abc import ABC, abstractmethod\n",
    "\n",
    "class Shape(ABC):\n",
    "    @abstractmethod\n",
    "    def area(self):\n",
    "        pass\n",
    "\n",
    "class Rectangle(Shape):\n",
    "    def __init__(self, width, height):\n",
    "        self.width = width\n",
    "        self.height = height\n",
    "\n",
    "    def area(self):\n",
    "        return self.width * self.height\n",
    "\n",
    "class Circle(Shape):\n",
    "    def __init__(self, radius):\n",
    "        self.radius = radius\n",
    "\n",
    "    def area(self):\n",
    "        return 3.14 * self.radius * self.radius\n",
    "\n",
    "# Attempting to instantiate the abstract base class\n",
    "# shape = Shape()  # This will raise a TypeError\n",
    "\n",
    "# Creating instances of the derived classes\n",
    "rectangle = Rectangle(5, 10)\n",
    "circle = Circle(7)\n",
    "\n",
    "# Calling the common interface method\n",
    "print(rectangle.area())  # Output: 50\n",
    "print(circle.area())     # Output: 153.86\n"
   ]
  },
  {
   "attachments": {},
   "cell_type": "markdown",
   "metadata": {},
   "source": [
    "Q4. How can we achieve data abstraction?"
   ]
  },
  {
   "attachments": {},
   "cell_type": "markdown",
   "metadata": {},
   "source": [
    "Data abstraction can be achieved in Python through the following techniques:\n",
    "\n",
    "1. Encapsulation: Encapsulation is a fundamental concept in achieving data abstraction. It involves bundling data and methods together within a class. The data is encapsulated within the class, and access to it is controlled through well-defined methods (getters and setters). By encapsulating data, the internal representation and implementation details are hidden from the outside world, promoting abstraction.\n",
    "\n",
    "2. Access Modifiers: Python provides access modifiers to control the visibility of attributes and methods. By convention, an attribute or method prefixed with a single underscore (`_`) indicates it as a non-public member, meaning it is intended for internal use within the class. By using access modifiers, we can hide certain attributes or methods from direct access, further enhancing data abstraction.\n",
    "\n",
    "3. Property Decorators: Python's property decorators (`@property`, `@<attribute>.setter`, `@<attribute>.deleter`) allow us to define getter, setter, and deleter methods for attributes. This allows us to control the access and modification of attribute values while maintaining abstraction. By using property decorators, we can define custom behavior when getting or setting an attribute value.\n"
   ]
  },
  {
   "cell_type": "code",
   "execution_count": 6,
   "metadata": {},
   "outputs": [
    {
     "name": "stdout",
     "output_type": "stream",
     "text": [
      "1234567890\n",
      "1000\n",
      "1500\n",
      "1300\n",
      "Insufficient balance.\n"
     ]
    }
   ],
   "source": [
    "class BankAccount:\n",
    "    def __init__(self, account_number, balance):\n",
    "        self._account_number = account_number\n",
    "        self._balance = balance\n",
    "\n",
    "    @property\n",
    "    def account_number(self):\n",
    "        return self._account_number\n",
    "\n",
    "    @property\n",
    "    def balance(self):\n",
    "        return self._balance\n",
    "\n",
    "    def deposit(self, amount):\n",
    "        self._balance += amount\n",
    "\n",
    "    def withdraw(self, amount):\n",
    "        if self._balance >= amount:\n",
    "            self._balance -= amount\n",
    "        else:\n",
    "            print(\"Insufficient balance.\")\n",
    "\n",
    "# Creating an instance of the BankAccount class\n",
    "account = BankAccount(\"1234567890\", 1000)\n",
    "\n",
    "# Accessing attributes using getters\n",
    "print(account.account_number)  # Output: 1234567890\n",
    "print(account.balance)         # Output: 1000\n",
    "\n",
    "# Modifying attributes using appropriate methods\n",
    "account.deposit(500)\n",
    "print(account.balance)         # Output: 1500\n",
    "\n",
    "account.withdraw(200)\n",
    "print(account.balance)         # Output: 1300\n",
    "\n",
    "account.withdraw(2000)         # Output: Insufficient balance.\n"
   ]
  },
  {
   "attachments": {},
   "cell_type": "markdown",
   "metadata": {},
   "source": [
    "Q5. Can we create an instance of an abstract class? Explain your answer"
   ]
  },
  {
   "attachments": {},
   "cell_type": "markdown",
   "metadata": {},
   "source": [
    "No, we cannot create an instance of an abstract class in Python. Abstract classes are designed to be incomplete or partially implemented, and they serve as blueprints for derived classes to inherit from and implement the abstract methods.\n",
    "\n",
    "In Python, abstract classes are created using the abc module's ABC class as a metaclass or by using the @abc.abstractmethod decorator to declare abstract methods within the class. When a class contains at least one abstract method, it becomes an abstract class.\n",
    "\n",
    "The purpose of an abstract class is to provide a common interface or contract for its derived classes, defining the required methods that must be implemented by the derived classes. It serves as a way to enforce a structure and behavior that should be shared among multiple related classes.\n",
    "\n",
    "Attempting to create an instance of an abstract class directly will result in a TypeError. Python enforces this to prevent the creation of objects that are incomplete or lacking implementation for the abstract methods."
   ]
  },
  {
   "cell_type": "code",
   "execution_count": null,
   "metadata": {},
   "outputs": [],
   "source": [
    "from abc import ABC, abstractmethod\n",
    "\n",
    "class Shape(ABC):\n",
    "    @abstractmethod\n",
    "    def area(self):\n",
    "        pass\n",
    "\n",
    "class Rectangle(Shape):\n",
    "    def __init__(self, width, height):\n",
    "        self.width = width\n",
    "        self.height = height\n",
    "\n",
    "    def area(self):\n",
    "        return self.width * self.height\n",
    "\n",
    "# Trying to create an instance of the abstract class\n",
    "shape = Shape()  # This will raise a TypeError\n"
   ]
  },
  {
   "cell_type": "code",
   "execution_count": null,
   "metadata": {},
   "outputs": [],
   "source": []
  }
 ],
 "metadata": {
  "kernelspec": {
   "display_name": "Python 3",
   "language": "python",
   "name": "python3"
  },
  "language_info": {
   "codemirror_mode": {
    "name": "ipython",
    "version": 3
   },
   "file_extension": ".py",
   "mimetype": "text/x-python",
   "name": "python",
   "nbconvert_exporter": "python",
   "pygments_lexer": "ipython3",
   "version": "3.10.7"
  },
  "orig_nbformat": 4
 },
 "nbformat": 4,
 "nbformat_minor": 2
}
