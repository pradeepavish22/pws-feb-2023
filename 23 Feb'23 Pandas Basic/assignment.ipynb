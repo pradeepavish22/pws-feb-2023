{
 "cells": [
  {
   "cell_type": "markdown",
   "metadata": {},
   "source": [
    "<h2 style='color:blue;font-weight:bold;text-align:center;'>**PWSkills Assignment **<h2>"
   ]
  },
  {
   "cell_type": "markdown",
   "metadata": {},
   "source": [
    "<p style='color:green;font-weight:bold'>Q1. Create a Pandas Series that contains the following data: 4, 8, 15, 16, 23, and 42. Then, print the series.</p>"
   ]
  },
  {
   "cell_type": "code",
   "execution_count": 1,
   "metadata": {},
   "outputs": [
    {
     "name": "stdout",
     "output_type": "stream",
     "text": [
      "0     4\n",
      "1     8\n",
      "2    15\n",
      "3    16\n",
      "4    23\n",
      "5    42\n",
      "dtype: int64\n"
     ]
    }
   ],
   "source": [
    "import pandas as pd\n",
    "\n",
    "data = [4, 8, 15, 16, 23, 42]\n",
    "series = pd.Series(data)\n",
    "\n",
    "print(series)\n"
   ]
  },
  {
   "cell_type": "markdown",
   "metadata": {},
   "source": [
    "<p style='color:green;font-weight:bold'>Q2. Create a variable of list type containing 10 elements in it, and apply pandas.Series function on the \n",
    "variable print it.</p>"
   ]
  },
  {
   "cell_type": "code",
   "execution_count": 2,
   "metadata": {},
   "outputs": [
    {
     "name": "stdout",
     "output_type": "stream",
     "text": [
      "0     1\n",
      "1     2\n",
      "2     3\n",
      "3     4\n",
      "4     5\n",
      "5     6\n",
      "6     7\n",
      "7     8\n",
      "8     9\n",
      "9    10\n",
      "dtype: int64\n"
     ]
    }
   ],
   "source": [
    "import pandas as pd\n",
    "\n",
    "# Create a list variable with 10 elements\n",
    "my_list = [1, 2, 3, 4, 5, 6, 7, 8, 9, 10]\n",
    "\n",
    "# Convert the list into a Pandas Series\n",
    "series = pd.Series(my_list)\n",
    "\n",
    "# Print the Pandas Series\n",
    "print(series)\n"
   ]
  },
  {
   "cell_type": "markdown",
   "metadata": {},
   "source": [
    "<p style='color:green;font-weight:bold'>Q3. Create a Pandas DataFrame that contains the following data:</p>"
   ]
  },
  {
   "cell_type": "code",
   "execution_count": 3,
   "metadata": {},
   "outputs": [
    {
     "name": "stdout",
     "output_type": "stream",
     "text": [
      "     Name  Age  Gender\n",
      "0   Alice   25  Female\n",
      "1     Bob   30    Male\n",
      "2  Claire   27  Female\n"
     ]
    }
   ],
   "source": [
    "import pandas as pd\n",
    "\n",
    "# Data for the DataFrame\n",
    "data = {\n",
    "    'Name': ['Alice', 'Bob','Claire'],\n",
    "    'Age': [25,30,27],\n",
    "    'Gender': ['Female','Male','Female']\n",
    "}\n",
    "\n",
    "# Create the Pandas DataFrame\n",
    "df = pd.DataFrame(data)\n",
    "\n",
    "# Print the DataFrame\n",
    "print(df)\n"
   ]
  },
  {
   "cell_type": "markdown",
   "metadata": {},
   "source": [
    "<p style='color:green;font-weight:bold'>Q4. What is ‘DataFrame’ in pandas and how is it different from pandas.series? Explain with an example.</p>"
   ]
  },
  {
   "cell_type": "markdown",
   "metadata": {},
   "source": [
    "- DataFrame"
   ]
  },
  {
   "cell_type": "code",
   "execution_count": 5,
   "metadata": {},
   "outputs": [
    {
     "name": "stdout",
     "output_type": "stream",
     "text": [
      "DataFrame:\n",
      "      Name  Age           City\n",
      "0    Alice   25       New York\n",
      "1      Bob   30  San Francisco\n",
      "2  Charlie   22    Los Angeles\n"
     ]
    }
   ],
   "source": [
    "import pandas as pd\n",
    "\n",
    "# Example data for a DataFrame\n",
    "data = {\n",
    "    'Name': ['Alice', 'Bob', 'Charlie'],\n",
    "    'Age': [25, 30, 22],\n",
    "    'City': ['New York', 'San Francisco', 'Los Angeles']\n",
    "}\n",
    "\n",
    "# Create a DataFrame\n",
    "df = pd.DataFrame(data)\n",
    "\n",
    "# Print the DataFrame\n",
    "print(\"DataFrame:\")\n",
    "print(df)\n"
   ]
  },
  {
   "cell_type": "markdown",
   "metadata": {},
   "source": [
    "- Series"
   ]
  },
  {
   "cell_type": "code",
   "execution_count": 6,
   "metadata": {},
   "outputs": [
    {
     "name": "stdout",
     "output_type": "stream",
     "text": [
      "\n",
      "Series:\n",
      "0    25\n",
      "1    30\n",
      "2    22\n",
      "Name: Age, dtype: int64\n"
     ]
    }
   ],
   "source": [
    "# Create a Series from the 'Age' column of the DataFrame\n",
    "age_series = df['Age']\n",
    "\n",
    "# Print the Series\n",
    "print(\"\\nSeries:\")\n",
    "print(age_series)\n"
   ]
  },
  {
   "cell_type": "markdown",
   "metadata": {},
   "source": [
    "<p style='color:green;font-weight:bold'>Q5. What are some common functions you can use to manipulate data in a Pandas DataFrame\n",
    "you give an example of when you might use one of these functions?</p>"
   ]
  },
  {
   "cell_type": "markdown",
   "metadata": {},
   "source": [
    "Pandas provides a wide range of functions to manipulate data in a DataFrame. Here are some common functions that you can use:\n",
    "- `head() and tail()`: These functions allow you to view the first few rows (head()) or the last few rows (tail()) of the DataFrame. They are useful for quickly inspecting the structure and content of the data."
   ]
  },
  {
   "cell_type": "code",
   "execution_count": 7,
   "metadata": {},
   "outputs": [
    {
     "name": "stdout",
     "output_type": "stream",
     "text": [
      "First few rows:\n",
      "      Name  Age           City\n",
      "0    Alice   25       New York\n",
      "1      Bob   30  San Francisco\n",
      "2  Charlie   22    Los Angeles\n",
      "\n",
      "Last few rows:\n",
      "      Name  Age           City\n",
      "0    Alice   25       New York\n",
      "1      Bob   30  San Francisco\n",
      "2  Charlie   22    Los Angeles\n"
     ]
    }
   ],
   "source": [
    "import pandas as pd\n",
    "\n",
    "# Example DataFrame\n",
    "data = {\n",
    "    'Name': ['Alice', 'Bob', 'Charlie'],\n",
    "    'Age': [25, 30, 22],\n",
    "    'City': ['New York', 'San Francisco', 'Los Angeles']\n",
    "}\n",
    "\n",
    "df = pd.DataFrame(data)\n",
    "\n",
    "# Using head() and tail() functions\n",
    "print(\"First few rows:\")\n",
    "print(df.head())\n",
    "\n",
    "print(\"\\nLast few rows:\")\n",
    "print(df.tail())\n"
   ]
  },
  {
   "cell_type": "markdown",
   "metadata": {},
   "source": [
    "- `info()`: This function provides a concise summary of the DataFrame, including the data types of each column, the number of non-null values, and memory usage. It helps in understanding the data types and identifying missing values."
   ]
  },
  {
   "cell_type": "code",
   "execution_count": 9,
   "metadata": {},
   "outputs": [
    {
     "name": "stdout",
     "output_type": "stream",
     "text": [
      "DataFrame info:\n",
      "<class 'pandas.core.frame.DataFrame'>\n",
      "RangeIndex: 3 entries, 0 to 2\n",
      "Data columns (total 3 columns):\n",
      " #   Column  Non-Null Count  Dtype \n",
      "---  ------  --------------  ----- \n",
      " 0   Name    3 non-null      object\n",
      " 1   Age     3 non-null      int64 \n",
      " 2   City    3 non-null      object\n",
      "dtypes: int64(1), object(2)\n",
      "memory usage: 200.0+ bytes\n",
      "None\n"
     ]
    }
   ],
   "source": [
    "# Using info() function\n",
    "print(\"DataFrame info:\")\n",
    "print(df.info())"
   ]
  },
  {
   "cell_type": "markdown",
   "metadata": {},
   "source": [
    "- `describe()`: This function generates descriptive statistics of the DataFrame, such as count, mean, standard deviation, minimum, and maximum values. It is useful for gaining insights into the numerical data."
   ]
  },
  {
   "cell_type": "code",
   "execution_count": 10,
   "metadata": {},
   "outputs": [
    {
     "name": "stdout",
     "output_type": "stream",
     "text": [
      "DataFrame statistics:\n",
      "             Age\n",
      "count   3.000000\n",
      "mean   25.666667\n",
      "std     4.041452\n",
      "min    22.000000\n",
      "25%    23.500000\n",
      "50%    25.000000\n",
      "75%    27.500000\n",
      "max    30.000000\n"
     ]
    }
   ],
   "source": [
    "# Using describe() function\n",
    "print(\"DataFrame statistics:\")\n",
    "print(df.describe())\n"
   ]
  },
  {
   "cell_type": "markdown",
   "metadata": {},
   "source": [
    "- `sort_values()`: This function allows you to sort the DataFrame based on one or more columns. It's handy when you want to arrange the data in a specific order."
   ]
  },
  {
   "cell_type": "code",
   "execution_count": 11,
   "metadata": {},
   "outputs": [
    {
     "name": "stdout",
     "output_type": "stream",
     "text": [
      "\n",
      "DataFrame sorted by Age:\n",
      "      Name  Age           City\n",
      "2  Charlie   22    Los Angeles\n",
      "0    Alice   25       New York\n",
      "1      Bob   30  San Francisco\n"
     ]
    }
   ],
   "source": [
    "# Sorting the DataFrame by 'Age' in ascending order\n",
    "sorted_df = df.sort_values(by='Age')\n",
    "\n",
    "print(\"\\nDataFrame sorted by Age:\")\n",
    "print(sorted_df)\n"
   ]
  },
  {
   "cell_type": "markdown",
   "metadata": {},
   "source": [
    "- `groupby()`: This function is used for grouping data based on one or more columns. It's often used with aggregation functions like sum(), mean(), count(), etc., to summarize data for each group.\n",
    "python"
   ]
  },
  {
   "cell_type": "code",
   "execution_count": 12,
   "metadata": {},
   "outputs": [
    {
     "name": "stdout",
     "output_type": "stream",
     "text": [
      "\n",
      "Mean age for each city:\n",
      "City\n",
      "Los Angeles      22.0\n",
      "New York         25.0\n",
      "San Francisco    30.0\n",
      "Name: Age, dtype: float64\n"
     ]
    }
   ],
   "source": [
    "# Grouping the DataFrame by 'City' and calculating the mean age for each city\n",
    "grouped_df = df.groupby('City')['Age'].mean()\n",
    "\n",
    "print(\"\\nMean age for each city:\")\n",
    "print(grouped_df)\n"
   ]
  },
  {
   "cell_type": "markdown",
   "metadata": {},
   "source": [
    "<p style='color:green;font-weight:bold'>Q6. Which of the following is mutable in nature Series, DataFrame, Panel?</p>"
   ]
  },
  {
   "cell_type": "markdown",
   "metadata": {},
   "source": [
    "In Pandas, the only mutable data structure among the options provided is the DataFrame.\n",
    "\n",
    "1. **Series**: A Pandas Series is a one-dimensional array-like data structure, and it is immutable in nature. Once a Series is created, its elements cannot be modified directly.\n",
    "\n",
    "2. **DataFrame**: A Pandas DataFrame is a two-dimensional tabular data structure, and it is mutable in nature. You can modify the elements of a DataFrame, add or remove rows and columns, and perform various data manipulations on it.\n",
    "\n",
    "3. **Panel**: A Panel is a three-dimensional data structure in Pandas, but it has been deprecated since version 0.25.0 and is no longer recommended for use. As of version 1.0.0, Panel has been removed from the main Pandas library and placed in a separate package called `pandas-panels`. Panels were mutable in nature, but they are no longer part of the core Pandas library.\n",
    "\n"
   ]
  },
  {
   "cell_type": "markdown",
   "metadata": {},
   "source": [
    "<p style='color:green;font-weight:bold'>Q7. Create a DataFrame using multiple Series. Explain with an example.</p>"
   ]
  },
  {
   "cell_type": "code",
   "execution_count": 13,
   "metadata": {},
   "outputs": [
    {
     "name": "stdout",
     "output_type": "stream",
     "text": [
      "      Name  Age           City\n",
      "0    Alice   25       New York\n",
      "1      Bob   30  San Francisco\n",
      "2  Charlie   22    Los Angeles\n"
     ]
    }
   ],
   "source": [
    "import pandas as pd\n",
    "\n",
    "# Creating multiple Series\n",
    "name_series = pd.Series(['Alice', 'Bob', 'Charlie'])\n",
    "age_series = pd.Series([25, 30, 22])\n",
    "city_series = pd.Series(['New York', 'San Francisco', 'Los Angeles'])\n",
    "\n",
    "# Creating the DataFrame using the Series\n",
    "data = {\n",
    "    'Name': name_series,\n",
    "    'Age': age_series,\n",
    "    'City': city_series\n",
    "}\n",
    "\n",
    "df = pd.DataFrame(data)\n",
    "\n",
    "# Printing the DataFrame\n",
    "print(df)\n"
   ]
  },
  {
   "cell_type": "code",
   "execution_count": null,
   "metadata": {},
   "outputs": [],
   "source": []
  }
 ],
 "metadata": {
  "kernelspec": {
   "display_name": "Python 3",
   "language": "python",
   "name": "python3"
  },
  "language_info": {
   "codemirror_mode": {
    "name": "ipython",
    "version": 3
   },
   "file_extension": ".py",
   "mimetype": "text/x-python",
   "name": "python",
   "nbconvert_exporter": "python",
   "pygments_lexer": "ipython3",
   "version": "3.10.7"
  },
  "orig_nbformat": 4
 },
 "nbformat": 4,
 "nbformat_minor": 2
}
